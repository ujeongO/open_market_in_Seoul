{
 "cells": [
  {
   "cell_type": "markdown",
   "id": "9182adc4",
   "metadata": {},
   "source": [
    "### 유동인구와 음식업종 사이 상관관계"
   ]
  },
  {
   "cell_type": "code",
   "execution_count": 33,
   "id": "ac9ead73",
   "metadata": {},
   "outputs": [],
   "source": [
    "!pip install statsmodels\n",
    "import statsmodels.api as sm\n",
    "import csv\n",
    "import pandas as pd\n",
    "from matplotlib import pyplot as plt\n",
    "import seaborn as sns\n",
    "import numpy as np\n",
    "import math\n",
    "import scipy.stats as stats"
   ]
  },
  {
   "cell_type": "code",
   "execution_count": 4,
   "id": "8d3c5aa7",
   "metadata": {},
   "outputs": [],
   "source": [
    "import pandas as pd\n",
    "from matplotlib import pyplot as plt"
   ]
  },
  {
   "cell_type": "code",
   "execution_count": 5,
   "id": "5587d8a5",
   "metadata": {},
   "outputs": [],
   "source": [
    "# 글씨 깨짐 방지\n",
    "from matplotlib import rc  \n",
    "rc('font', family='AppleGothic')\n",
    "plt.rcParams['axes.unicode_minus'] = False "
   ]
  },
  {
   "cell_type": "code",
   "execution_count": 6,
   "id": "233ecf3a",
   "metadata": {},
   "outputs": [],
   "source": [
    "# 빅쿼리에 접근\n",
    "\n",
    "from google.oauth2 import service_account\n",
    "\n",
    "credentials = service_account.Credentials.from_service_account_file(\"json파일 경로\")"
   ]
  },
  {
   "cell_type": "code",
   "execution_count": 7,
   "id": "1ce03e28",
   "metadata": {},
   "outputs": [],
   "source": [
    "from google.cloud import bigquery\n",
    "\n",
    "client = bigquery.Client(\n",
    "    credentials = credentials,\n",
    "    project = credentials.project_id\n",
    ")"
   ]
  },
  {
   "cell_type": "code",
   "execution_count": null,
   "id": "278a7fc4",
   "metadata": {},
   "outputs": [],
   "source": []
  },
  {
   "cell_type": "markdown",
   "id": "fe747cdc",
   "metadata": {},
   "source": [
    "## 22년 유동인구 ~ 업종 관계"
   ]
  },
  {
   "cell_type": "code",
   "execution_count": 55,
   "id": "97d7e87a",
   "metadata": {},
   "outputs": [],
   "source": [
    "population=pd.read_csv(\"서울시 상권분석서비스(길단위인구-자치구).csv 파일경로\",encoding='utf-8')\n",
    "population = population[population['year_quater_cd'].isin([20221, 20222, 20223, 20224])]\n",
    "population=population.drop(columns='autono_cd')\n",
    "population.columns=['quter','gu','total','female','male','10','20','30','40','50','60','mon','tue','wed','thur','fri','sat','sun']"
   ]
  },
  {
   "cell_type": "code",
   "execution_count": 1,
   "id": "21c5062a",
   "metadata": {},
   "outputs": [],
   "source": [
    "population"
   ]
  },
  {
   "cell_type": "code",
   "execution_count": 57,
   "id": "cea8896b",
   "metadata": {},
   "outputs": [],
   "source": [
    "price=pd.read_csv(\"서울시 상권분석서비스(추정매출-자치구).csv 파일 경로\")\n",
    "price=price[price['year_quater_cd'].isin([20221, 20222, 20223, 20224])]\n",
    "price=price.drop(columns='autono_cd')\n",
    "price=price[price['service_nm'].isin(['치킨전문점', '호프-간이주점', '일식음식점', '양식음식점','한식음식점','커피-음료', '중식음식점','제과점','분식전문점', '패스트푸드점'])]"
   ]
  },
  {
   "cell_type": "code",
   "execution_count": 2,
   "id": "f6506d4d",
   "metadata": {},
   "outputs": [],
   "source": [
    "price"
   ]
  },
  {
   "cell_type": "code",
   "execution_count": 59,
   "id": "68676524",
   "metadata": {},
   "outputs": [],
   "source": [
    "price=price.reset_index(drop=True)\n",
    "price.drop(columns=['service_cd','week_sales_amount','weekend_sales_amount','hour_00to06_sales_amount',\n",
    "                   'hour_06to11_sales_amount', 'hour_11to14_sales_amount',\n",
    "                   'hour_14to17_sales_amount', 'hour_17to21_sales_amount',\n",
    "                   'hour_21to24_sales_amount'],inplace=True)"
   ]
  },
  {
   "cell_type": "code",
   "execution_count": 3,
   "id": "c92aa636",
   "metadata": {},
   "outputs": [],
   "source": [
    "price"
   ]
  },
  {
   "cell_type": "code",
   "execution_count": 61,
   "id": "de6e78bc",
   "metadata": {},
   "outputs": [],
   "source": [
    "service_nm=price['service_nm'].unique()"
   ]
  },
  {
   "cell_type": "code",
   "execution_count": 62,
   "id": "050ff588",
   "metadata": {},
   "outputs": [
    {
     "data": {
      "text/plain": [
       "array(['치킨전문점', '호프-간이주점', '일식음식점', '양식음식점', '한식음식점', '커피-음료', '중식음식점',\n",
       "       '제과점', '분식전문점', '패스트푸드점'], dtype=object)"
      ]
     },
     "execution_count": 62,
     "metadata": {},
     "output_type": "execute_result"
    }
   ],
   "source": [
    "service_nm"
   ]
  },
  {
   "cell_type": "markdown",
   "id": "4dba9397",
   "metadata": {},
   "source": [
    "## 22년 1234분기 연령대별 유동인구 ~ 업종 관계"
   ]
  },
  {
   "cell_type": "code",
   "execution_count": null,
   "id": "2cf2e2ff",
   "metadata": {},
   "outputs": [],
   "source": []
  },
  {
   "cell_type": "code",
   "execution_count": 63,
   "id": "336f9278",
   "metadata": {},
   "outputs": [],
   "source": [
    "# 22년 1분기\n",
    "\n",
    "for i in range(len(service_nm)):\n",
    "    globals()[f'x_{i}']=price[(price['service_nm']==service_nm[i])&(price['year_quater_cd']==20221)].reset_index(drop=True)\n"
   ]
  },
  {
   "cell_type": "code",
   "execution_count": 4,
   "id": "2b37a1b8",
   "metadata": {},
   "outputs": [],
   "source": [
    "for i in range(len(service_nm)):\n",
    "    globals()[f'xx{i}']=pd.merge(population,globals()[f'x_{i}'],left_on=['quter','gu'],right_on=['year_quater_cd','autono_nm'])\n",
    "    x=sm.add_constant(globals()[f'xx{i}'][['total','female','male','10','20','30','40','50']])\n",
    "    y=globals()[f'xx{i}'][['month_sales_amount']]\n",
    "    model=sm.OLS(y,x).fit()\n",
    "    print(model.summary())"
   ]
  },
  {
   "cell_type": "code",
   "execution_count": null,
   "id": "29203eb7",
   "metadata": {},
   "outputs": [],
   "source": [
    "# 22년 1분기 결과\n",
    "'''\n",
    "'치킨전문점' : x\n",
    "'호프-간이주점' : 40\n",
    "'일식음식점' : 40 전체 여 남\n",
    "'양식음식점' : 40 전체 여 남\n",
    "'한식음식점' : 40\n",
    "'커피-음료' : 40 20\n",
    "'중식음식점' : 40 50 20\n",
    "'제과점' : x\n",
    "'분식전문점' : 40\n",
    "'패스트푸드점' : 40\n",
    "'''"
   ]
  },
  {
   "cell_type": "code",
   "execution_count": 65,
   "id": "b148c0bc",
   "metadata": {},
   "outputs": [],
   "source": [
    "# 22년 2분기\n",
    "\n",
    "for i in range(len(service_nm)):\n",
    "    globals()[f'x_{i}']=price[(price['service_nm']==service_nm[i])&(price['year_quater_cd']==20222)].reset_index(drop=True)\n"
   ]
  },
  {
   "cell_type": "code",
   "execution_count": 5,
   "id": "bd79a995",
   "metadata": {},
   "outputs": [],
   "source": [
    "for i in range(len(service_nm)):\n",
    "    globals()[f'xx{i}']=pd.merge(population,globals()[f'x_{i}'],left_on=['quter','gu'],right_on=['year_quater_cd','autono_nm'])\n",
    "    x=sm.add_constant(globals()[f'xx{i}'][['total','female','male','10','20','30','40','50']])\n",
    "    y=globals()[f'xx{i}'][['month_sales_amount']]\n",
    "    model=sm.OLS(y,x).fit()\n",
    "    print(model.summary())"
   ]
  },
  {
   "cell_type": "code",
   "execution_count": null,
   "id": "43e9c94b",
   "metadata": {},
   "outputs": [],
   "source": [
    "# 22년 2분기 결과\n",
    "\n",
    "'''\n",
    "'치킨전문점' : 40\n",
    "'호프-간이주점' :40\n",
    "'일식음식점' :40\n",
    "'양식음식점' :40\n",
    "'한식음식점' :40 전체 남 여\n",
    "'커피-음료' : 40 20\n",
    "'중식음식점' : 40 20 50\n",
    "'제과점' : 40\n",
    "'분식전문점' :40\n",
    "'패스트푸드점' :40\n",
    "'''"
   ]
  },
  {
   "cell_type": "code",
   "execution_count": 69,
   "id": "eab867a1",
   "metadata": {},
   "outputs": [],
   "source": [
    "# 22년 3분기\n",
    "\n",
    "for i in range(len(service_nm)):\n",
    "    globals()[f'x_{i}']=price[(price['service_nm']==service_nm[i])&(price['year_quater_cd']==20223)].reset_index(drop=True)\n"
   ]
  },
  {
   "cell_type": "code",
   "execution_count": 6,
   "id": "1e5b3878",
   "metadata": {},
   "outputs": [],
   "source": [
    "for i in range(len(service_nm)):\n",
    "    globals()[f'xx{i}']=pd.merge(population,globals()[f'x_{i}'],left_on=['quter','gu'],right_on=['year_quater_cd','autono_nm'])\n",
    "    x=sm.add_constant(globals()[f'xx{i}'][['total','female','male','10','20','30','40','50']])\n",
    "    y=globals()[f'xx{i}'][['month_sales_amount']]\n",
    "    model=sm.OLS(y,x).fit()\n",
    "    print(model.summary())"
   ]
  },
  {
   "cell_type": "code",
   "execution_count": null,
   "id": "8ad39b8c",
   "metadata": {},
   "outputs": [],
   "source": [
    "# 22년 3분기 결과\n",
    "'''\n",
    "'치킨전문점' : 40\n",
    "'호프-간이주점' :40\n",
    "'일식음식점' :40(0.00)\n",
    "'양식음식점' :40\n",
    "'한식음식점' :40\n",
    "'커피-음료' :40 20\n",
    "'중식음식점' :40 50\n",
    "'제과점' :40\n",
    "'분식전문점' :40\n",
    "'패스트푸드점' :40\n",
    "'''    "
   ]
  },
  {
   "cell_type": "code",
   "execution_count": 71,
   "id": "3b25ee90",
   "metadata": {},
   "outputs": [],
   "source": [
    "# 22년 4분기\n",
    "\n",
    "for i in range(len(service_nm)):\n",
    "    globals()[f'x_{i}']=price[(price['service_nm']==service_nm[i])&(price['year_quater_cd']==20224)].reset_index(drop=True)\n"
   ]
  },
  {
   "cell_type": "code",
   "execution_count": 7,
   "id": "54947081",
   "metadata": {},
   "outputs": [],
   "source": [
    "for i in range(len(service_nm)):\n",
    "    globals()[f'xx{i}']=pd.merge(population,globals()[f'x_{i}'],left_on=['quter','gu'],right_on=['year_quater_cd','autono_nm'])\n",
    "    x=sm.add_constant(globals()[f'xx{i}'][['total','female','male','10','20','30','40','50']])\n",
    "    y=globals()[f'xx{i}'][['month_sales_amount']]\n",
    "    model=sm.OLS(y,x).fit()\n",
    "    print(model.summary())"
   ]
  },
  {
   "cell_type": "code",
   "execution_count": null,
   "id": "02217d83",
   "metadata": {},
   "outputs": [],
   "source": [
    "# 22년 4분기 결과\n",
    "'''\n",
    "'치킨전문점' : 40 10\n",
    "'호프-간이주점' :40\n",
    "'일식음식점' :40 20\n",
    "'양식음식점' :40\n",
    "'한식음식점' :40 (20 -> 0.064)\n",
    "'커피-음료' :40 20\n",
    "'중식음식점' :40 50 20\n",
    "'제과점' :40\n",
    "'분식전문점' :40\n",
    "'패스트푸드점' :40 (20 -> 0.059), 50대 유의확률이 점점 0.05에 가까워지고 있음 => 상관이 생기고 있다?\n",
    "'''    "
   ]
  },
  {
   "cell_type": "code",
   "execution_count": null,
   "id": "4e7d2f22",
   "metadata": {},
   "outputs": [],
   "source": []
  },
  {
   "cell_type": "markdown",
   "id": "f5a5b666",
   "metadata": {},
   "source": [
    "## 21년 유동인구 ~ 업종 관계"
   ]
  },
  {
   "cell_type": "code",
   "execution_count": 8,
   "id": "de7f9fbb",
   "metadata": {},
   "outputs": [],
   "source": [
    "population=pd.read_csv(\"서울시 상권분석서비스(길단위인구-자치구).csv 파일경로\",encoding='utf-8')\n",
    "population = population[population['year_quater_cd'].isin([20211, 20212, 20213, 20214])]\n",
    "population=population.drop(columns='autono_cd')\n",
    "population.columns=['quter','gu','total','female','male','10','20','30','40','50','60','mon','tue','wed','thur','fri','sat','sun']\n",
    "\n",
    "population"
   ]
  },
  {
   "cell_type": "code",
   "execution_count": 9,
   "id": "595b8d00",
   "metadata": {},
   "outputs": [],
   "source": [
    "price=pd.read_csv(\"서울시 상권분석서비스(추정매출-자치구).csv 파일경로\")\n",
    "price=price[price['year_quater_cd'].isin([20211, 20212, 20213, 20214])]\n",
    "price=price.drop(columns='autono_cd')\n",
    "price=price[price['service_nm'].isin(['치킨전문점', '호프-간이주점', '일식음식점', '양식음식점','한식음식점','커피-음료', '중식음식점','제과점','분식전문점', '패스트푸드점'])]\n",
    "\n",
    "price"
   ]
  },
  {
   "cell_type": "code",
   "execution_count": 77,
   "id": "d369f63b",
   "metadata": {},
   "outputs": [],
   "source": [
    "# 필요 없는 컬럼 날려\n",
    "price=price.reset_index(drop=True)\n",
    "price.drop(columns=['service_cd','week_sales_amount','weekend_sales_amount','hour_00to06_sales_amount',\n",
    "                   'hour_06to11_sales_amount', 'hour_11to14_sales_amount',\n",
    "                   'hour_14to17_sales_amount', 'hour_17to21_sales_amount',\n",
    "                   'hour_21to24_sales_amount'],inplace=True)"
   ]
  },
  {
   "cell_type": "code",
   "execution_count": 10,
   "id": "890dcfd5",
   "metadata": {},
   "outputs": [],
   "source": [
    "price"
   ]
  },
  {
   "cell_type": "code",
   "execution_count": 34,
   "id": "17a21ecd",
   "metadata": {},
   "outputs": [],
   "source": [
    "service_nm=price['service_nm'].unique()\n",
    "service_nm"
   ]
  },
  {
   "cell_type": "markdown",
   "id": "34f6208d",
   "metadata": {},
   "source": [
    "## 21년 1234분기 연령대별 유동인구 ~ 업종 관계"
   ]
  },
  {
   "cell_type": "code",
   "execution_count": 82,
   "id": "4f31b6c3",
   "metadata": {},
   "outputs": [],
   "source": [
    "# 21년 1분기\n",
    "\n",
    "for i in range(len(service_nm)):\n",
    "    globals()[f'x_{i}']=price[(price['service_nm']==service_nm[i])&(price['year_quater_cd']==20211)].reset_index(drop=True)\n"
   ]
  },
  {
   "cell_type": "code",
   "execution_count": 12,
   "id": "cf089dc8",
   "metadata": {},
   "outputs": [],
   "source": [
    "for i in range(len(service_nm)):\n",
    "    globals()[f'xx{i}']=pd.merge(population,globals()[f'x_{i}'],left_on=['quter','gu'],right_on=['year_quater_cd','autono_nm'])\n",
    "    x=sm.add_constant(globals()[f'xx{i}'][['total','female','male','10','20','30','40','50']])\n",
    "    y=globals()[f'xx{i}'][['month_sales_amount']]\n",
    "    model=sm.OLS(y,x).fit()\n",
    "    print(model.summary())"
   ]
  },
  {
   "cell_type": "code",
   "execution_count": 12,
   "id": "0a04bd2b",
   "metadata": {},
   "outputs": [],
   "source": [
    "# 21년 1분기 결과\n",
    "'''\n",
    "'제과점': 40 전체 여 남\n",
    "'패스트푸드점':40 (30 -> 0.086 점점 0.05에 가까워짐)\n",
    "'치킨전문점': x\n",
    "'분식전문점': 40\n",
    "'일식음식점':40\n",
    "'양식음식점':40\n",
    "'커피-음료':40 20\n",
    "'중식음식점':40\n",
    "'호프-간이주점':40 (20 -> 0.060)\n",
    "'한식음식점':40\n",
    "'''"
   ]
  },
  {
   "cell_type": "code",
   "execution_count": 84,
   "id": "55e371ff",
   "metadata": {},
   "outputs": [],
   "source": [
    "# 21년 2분기\n",
    "\n",
    "for i in range(len(service_nm)):\n",
    "    globals()[f'x_{i}']=price[(price['service_nm']==service_nm[i])&(price['year_quater_cd']==20212)].reset_index(drop=True)\n"
   ]
  },
  {
   "cell_type": "code",
   "execution_count": 13,
   "id": "7da10d57",
   "metadata": {},
   "outputs": [],
   "source": [
    "for i in range(len(service_nm)):\n",
    "    globals()[f'xx{i}']=pd.merge(population,globals()[f'x_{i}'],left_on=['quter','gu'],right_on=['year_quater_cd','autono_nm'])\n",
    "    x=sm.add_constant(globals()[f'xx{i}'][['total','female','male','10','20','30','40','50']])\n",
    "    y=globals()[f'xx{i}'][['month_sales_amount']]\n",
    "    model=sm.OLS(y,x).fit()\n",
    "    print(model.summary())"
   ]
  },
  {
   "cell_type": "code",
   "execution_count": null,
   "id": "7a65e117",
   "metadata": {},
   "outputs": [],
   "source": [
    "# 21년 2분기 결과\n",
    "'''\n",
    "'제과점': x(40 -> 0.067)\n",
    "'패스트푸드점':40\n",
    "'치킨전문점': 40\n",
    "'분식전문점': 40\n",
    "'일식음식점':40\n",
    "'양식음식점':40\n",
    "'커피-음료':40 20\n",
    "'중식음식점':40\n",
    "'호프-간이주점':40 20\n",
    "'한식음식점':40\n",
    "'''    "
   ]
  },
  {
   "cell_type": "code",
   "execution_count": 86,
   "id": "305ed523",
   "metadata": {},
   "outputs": [],
   "source": [
    "# 21년 3분기\n",
    "\n",
    "for i in range(len(service_nm)):\n",
    "    globals()[f'x_{i}']=price[(price['service_nm']==service_nm[i])&(price['year_quater_cd']==20213)].reset_index(drop=True)\n"
   ]
  },
  {
   "cell_type": "code",
   "execution_count": 14,
   "id": "de682d4e",
   "metadata": {},
   "outputs": [],
   "source": [
    "for i in range(len(service_nm)):\n",
    "    globals()[f'xx{i}']=pd.merge(population,globals()[f'x_{i}'],left_on=['quter','gu'],right_on=['year_quater_cd','autono_nm'])\n",
    "    x=sm.add_constant(globals()[f'xx{i}'][['total','female','male','10','20','30','40','50']])\n",
    "    y=globals()[f'xx{i}'][['month_sales_amount']]\n",
    "    model=sm.OLS(y,x).fit()\n",
    "    print(model.summary())"
   ]
  },
  {
   "cell_type": "code",
   "execution_count": null,
   "id": "c3c50c8a",
   "metadata": {},
   "outputs": [],
   "source": [
    "# 21년 3분기 결과\n",
    "'''\n",
    "'제과점': x(40 -> 0.060)\n",
    "'패스트푸드점':40\n",
    "'치킨전문점': x\n",
    "'분식전문점': 40 (전체 남 여 -> 0.057)\n",
    "'일식음식점':40\n",
    "'양식음식점':40\n",
    "'커피-음료':40 (20 -> 0.055)\n",
    "'중식음식점':40 (50 -> 0.053)\n",
    "'호프-간이주점':40\n",
    "'한식음식점':40\n",
    "'''"
   ]
  },
  {
   "cell_type": "code",
   "execution_count": 88,
   "id": "794048e8",
   "metadata": {},
   "outputs": [],
   "source": [
    "# 21년 4분기\n",
    "\n",
    "for i in range(len(service_nm)):\n",
    "    globals()[f'x_{i}']=price[(price['service_nm']==service_nm[i])&(price['year_quater_cd']==20214)].reset_index(drop=True)\n"
   ]
  },
  {
   "cell_type": "code",
   "execution_count": 15,
   "id": "4011a303",
   "metadata": {},
   "outputs": [],
   "source": [
    "for i in range(len(service_nm)):\n",
    "    globals()[f'xx{i}']=pd.merge(population,globals()[f'x_{i}'],left_on=['quter','gu'],right_on=['year_quater_cd','autono_nm'])\n",
    "    x=sm.add_constant(globals()[f'xx{i}'][['total','female','male','10','20','30','40','50']])\n",
    "    y=globals()[f'xx{i}'][['month_sales_amount']]\n",
    "    model=sm.OLS(y,x).fit()\n",
    "    print(model.summary())"
   ]
  },
  {
   "cell_type": "code",
   "execution_count": null,
   "id": "f50dfb78",
   "metadata": {},
   "outputs": [],
   "source": [
    "# 21년 4분기 결과\n",
    "'''\n",
    "'제과점': x\n",
    "'패스트푸드점':40\n",
    "'치킨전문점': 40\n",
    "'분식전문점': 40\n",
    "'일식음식점':40\n",
    "'양식음식점':40\n",
    "'커피-음료':40 20\n",
    "'중식음식점':40 (50 -> 0.052)\n",
    "'호프-간이주점':40\n",
    "'한식음식점':40\n",
    "'''"
   ]
  },
  {
   "cell_type": "code",
   "execution_count": null,
   "id": "bb941776",
   "metadata": {},
   "outputs": [],
   "source": []
  },
  {
   "cell_type": "markdown",
   "id": "ce294dcb",
   "metadata": {},
   "source": [
    "## 20년 유동인구 ~ 업종 관계"
   ]
  },
  {
   "cell_type": "code",
   "execution_count": 16,
   "id": "813d5c96",
   "metadata": {},
   "outputs": [],
   "source": [
    "population=pd.read_csv(\"서울시 상권분석서비스(길단위인구-자치구).csv 파일경로\",encoding='utf-8')\n",
    "population = population[population['year_quater_cd'].isin([20201, 20202, 20203, 20204])]\n",
    "population=population.drop(columns='autono_cd')\n",
    "population.columns=['quter','gu','total','female','male','10','20','30','40','50','60','mon','tue','wed','thur','fri','sat','sun']\n",
    "\n",
    "population"
   ]
  },
  {
   "cell_type": "code",
   "execution_count": 17,
   "id": "5d8efecb",
   "metadata": {},
   "outputs": [],
   "source": [
    "price=pd.read_csv(\"서울시 상권분석서비스(추정매출-자치구).csv 파일경로\")\n",
    "price=price[price['year_quater_cd'].isin([20201, 20202, 20203, 20204])]\n",
    "price=price.drop(columns='autono_cd')\n",
    "price=price[price['service_nm'].isin(['치킨전문점', '호프-간이주점', '일식음식점', '양식음식점','한식음식점','커피-음료', '중식음식점','제과점','분식전문점', '패스트푸드점'])]\n",
    "\n",
    "price"
   ]
  },
  {
   "cell_type": "code",
   "execution_count": 92,
   "id": "01852cdd",
   "metadata": {},
   "outputs": [],
   "source": [
    "# 필요 없는 컬럼 날려\n",
    "price=price.reset_index(drop=True)\n",
    "price.drop(columns=['service_cd','week_sales_amount','weekend_sales_amount','hour_00to06_sales_amount',\n",
    "                   'hour_06to11_sales_amount', 'hour_11to14_sales_amount',\n",
    "                   'hour_14to17_sales_amount', 'hour_17to21_sales_amount',\n",
    "                   'hour_21to24_sales_amount'],inplace=True)"
   ]
  },
  {
   "cell_type": "code",
   "execution_count": 18,
   "id": "1a0ce8a0",
   "metadata": {},
   "outputs": [],
   "source": [
    "price"
   ]
  },
  {
   "cell_type": "code",
   "execution_count": 35,
   "id": "4d7c9c22",
   "metadata": {},
   "outputs": [],
   "source": [
    "service_nm=price['service_nm'].unique()\n",
    "service_nm"
   ]
  },
  {
   "cell_type": "markdown",
   "id": "01d4902c",
   "metadata": {},
   "source": [
    "## 20년 1234분기 연령대별 유동인구 ~ 업종 관계"
   ]
  },
  {
   "cell_type": "code",
   "execution_count": 97,
   "id": "ee02f497",
   "metadata": {},
   "outputs": [],
   "source": [
    "# 20년 1분기\n",
    "\n",
    "for i in range(len(service_nm)):\n",
    "    globals()[f'x_{i}']=price[(price['service_nm']==service_nm[i])&(price['year_quater_cd']==20201)].reset_index(drop=True)\n"
   ]
  },
  {
   "cell_type": "code",
   "execution_count": 20,
   "id": "4863c8f3",
   "metadata": {
    "scrolled": true
   },
   "outputs": [],
   "source": [
    "for i in range(len(service_nm)):\n",
    "    globals()[f'xx{i}']=pd.merge(population,globals()[f'x_{i}'],left_on=['quter','gu'],right_on=['year_quater_cd','autono_nm'])\n",
    "    x=sm.add_constant(globals()[f'xx{i}'][['total','female','male','10','20','30','40','50']])\n",
    "    y=globals()[f'xx{i}'][['month_sales_amount']]\n",
    "    model=sm.OLS(y,x).fit()\n",
    "    print(model.summary())"
   ]
  },
  {
   "cell_type": "code",
   "execution_count": null,
   "id": "413625b3",
   "metadata": {},
   "outputs": [],
   "source": [
    "# 20년 1분기 결과\n",
    "'''\n",
    "'치킨전문점':x\n",
    "'커피-음료':40 (20 -> 0.064)\n",
    "'제과점':40\n",
    "'일식음식점':40\n",
    "'양식음식점':40\n",
    "'패스트푸드점':40 (30 -> 0.068)\n",
    "'분식전문점':40\n",
    "'한식음식점':40\n",
    "'호프-간이주점':40 30\n",
    "'중식음식점':40\n",
    "'''"
   ]
  },
  {
   "cell_type": "code",
   "execution_count": 99,
   "id": "260ae6d2",
   "metadata": {},
   "outputs": [],
   "source": [
    "# 20년 2분기\n",
    "\n",
    "for i in range(len(service_nm)):\n",
    "    globals()[f'x_{i}']=price[(price['service_nm']==service_nm[i])&(price['year_quater_cd']==20202)].reset_index(drop=True)\n"
   ]
  },
  {
   "cell_type": "code",
   "execution_count": 21,
   "id": "bb98580f",
   "metadata": {},
   "outputs": [],
   "source": [
    "for i in range(len(service_nm)):\n",
    "    globals()[f'xx{i}']=pd.merge(population,globals()[f'x_{i}'],left_on=['quter','gu'],right_on=['year_quater_cd','autono_nm'])\n",
    "    x=sm.add_constant(globals()[f'xx{i}'][['total','female','male','10','20','30','40','50']])\n",
    "    y=globals()[f'xx{i}'][['month_sales_amount']]\n",
    "    model=sm.OLS(y,x).fit()\n",
    "    print(model.summary())"
   ]
  },
  {
   "cell_type": "code",
   "execution_count": null,
   "id": "592350cc",
   "metadata": {},
   "outputs": [],
   "source": [
    "# 20년 2분기 결과\n",
    "'''\n",
    "'치킨전문점':40\n",
    "'커피-음료':40 20\n",
    "'제과점':40\n",
    "'일식음식점':40\n",
    "'양식음식점':40\n",
    "'패스트푸드점':40 30\n",
    "'분식전문점':40\n",
    "'한식음식점':40\n",
    "'호프-간이주점':40 30\n",
    "'중식음식점':40\n",
    "'''"
   ]
  },
  {
   "cell_type": "code",
   "execution_count": 101,
   "id": "9c232960",
   "metadata": {},
   "outputs": [],
   "source": [
    "# 20년 3분기\n",
    "\n",
    "for i in range(len(service_nm)):\n",
    "    globals()[f'x_{i}']=price[(price['service_nm']==service_nm[i])&(price['year_quater_cd']==20203)].reset_index(drop=True)\n"
   ]
  },
  {
   "cell_type": "code",
   "execution_count": 22,
   "id": "ef111462",
   "metadata": {},
   "outputs": [],
   "source": [
    "for i in range(len(service_nm)):\n",
    "    globals()[f'xx{i}']=pd.merge(population,globals()[f'x_{i}'],left_on=['quter','gu'],right_on=['year_quater_cd','autono_nm'])\n",
    "    x=sm.add_constant(globals()[f'xx{i}'][['total','female','male','10','20','30','40','50']])\n",
    "    y=globals()[f'xx{i}'][['month_sales_amount']]\n",
    "    model=sm.OLS(y,x).fit()\n",
    "    print(model.summary())"
   ]
  },
  {
   "cell_type": "code",
   "execution_count": null,
   "id": "84814aa4",
   "metadata": {},
   "outputs": [],
   "source": [
    "# 20년 3분기 결과\n",
    "'''\n",
    "'치킨전문점':40\n",
    "'커피-음료':40 20\n",
    "'제과점':x (40 -> 0.058)\n",
    "'일식음식점':40\n",
    "'양식음식점':40\n",
    "'패스트푸드점':40\n",
    "'분식전문점':40\n",
    "'한식음식점':40\n",
    "'호프-간이주점':40 30 20(-> 0.050)\n",
    "'중식음식점':40\n",
    "'''"
   ]
  },
  {
   "cell_type": "code",
   "execution_count": 103,
   "id": "484045bd",
   "metadata": {},
   "outputs": [],
   "source": [
    "# 20년 4분기\n",
    "\n",
    "for i in range(len(service_nm)):\n",
    "    globals()[f'x_{i}']=price[(price['service_nm']==service_nm[i])&(price['year_quater_cd']==20204)].reset_index(drop=True)\n"
   ]
  },
  {
   "cell_type": "code",
   "execution_count": 23,
   "id": "e11eded7",
   "metadata": {},
   "outputs": [],
   "source": [
    "for i in range(len(service_nm)):\n",
    "    globals()[f'xx{i}']=pd.merge(population,globals()[f'x_{i}'],left_on=['quter','gu'],right_on=['year_quater_cd','autono_nm'])\n",
    "    x=sm.add_constant(globals()[f'xx{i}'][['total','female','male','10','20','30','40','50']])\n",
    "    y=globals()[f'xx{i}'][['month_sales_amount']]\n",
    "    model=sm.OLS(y,x).fit()\n",
    "    print(model.summary())"
   ]
  },
  {
   "cell_type": "code",
   "execution_count": null,
   "id": "3ee973ae",
   "metadata": {},
   "outputs": [],
   "source": [
    "# 20년 4분기 결과\n",
    "'''\n",
    "'치킨전문점':x (40 -> 0.055)\n",
    "'커피-음료':40\n",
    "'제과점':x\n",
    "'일식음식점':40\n",
    "'양식음식점':40\n",
    "'패스트푸드점':40 (30 -> 0.060)\n",
    "'분식전문점':40\n",
    "'한식음식점':40\n",
    "'호프-간이주점':40\n",
    "'중식음식점':40\n",
    "'''"
   ]
  },
  {
   "cell_type": "code",
   "execution_count": null,
   "id": "f3255be0",
   "metadata": {},
   "outputs": [],
   "source": []
  },
  {
   "cell_type": "markdown",
   "id": "38da1d12",
   "metadata": {},
   "source": [
    "## 19년 유동인구 ~ 업종 관계"
   ]
  },
  {
   "cell_type": "code",
   "execution_count": 24,
   "id": "6920b7ac",
   "metadata": {},
   "outputs": [],
   "source": [
    "population=pd.read_csv(\"서울시 상권분석서비스(길단위인구-자치구).csv 파일경로\",encoding='utf-8')\n",
    "population = population[population['year_quater_cd'].isin([20191, 20192, 20193, 20194])]\n",
    "population=population.drop(columns='autono_cd')\n",
    "population.columns=['quter','gu','total','female','male','10','20','30','40','50','60','mon','tue','wed','thur','fri','sat','sun']\n",
    "\n",
    "population"
   ]
  },
  {
   "cell_type": "code",
   "execution_count": 25,
   "id": "3da5ecd9",
   "metadata": {},
   "outputs": [],
   "source": [
    "price=pd.read_csv(\"서울시 상권분석서비스(추정매출-자치구).csv 파일경로\")\n",
    "price=price[price['year_quater_cd'].isin([20191, 20192, 20193, 20194])]\n",
    "price=price.drop(columns='autono_cd')\n",
    "price=price[price['service_nm'].isin(['치킨전문점', '호프-간이주점', '일식음식점', '양식음식점','한식음식점','커피-음료', '중식음식점','제과점','분식전문점', '패스트푸드점'])]\n",
    "\n",
    "price"
   ]
  },
  {
   "cell_type": "code",
   "execution_count": 107,
   "id": "f0855c1a",
   "metadata": {},
   "outputs": [],
   "source": [
    "# 필요 없는 컬럼 날려\n",
    "price=price.reset_index(drop=True)\n",
    "price.drop(columns=['service_cd','week_sales_amount','weekend_sales_amount','hour_00to06_sales_amount',\n",
    "                   'hour_06to11_sales_amount', 'hour_11to14_sales_amount',\n",
    "                   'hour_14to17_sales_amount', 'hour_17to21_sales_amount',\n",
    "                   'hour_21to24_sales_amount'],inplace=True)"
   ]
  },
  {
   "cell_type": "code",
   "execution_count": 26,
   "id": "d2c65671",
   "metadata": {},
   "outputs": [],
   "source": [
    "price"
   ]
  },
  {
   "cell_type": "code",
   "execution_count": 36,
   "id": "141d0dd2",
   "metadata": {},
   "outputs": [],
   "source": [
    "service_nm=price['service_nm'].unique()\n",
    "service_nm"
   ]
  },
  {
   "cell_type": "markdown",
   "id": "dd5eef1b",
   "metadata": {},
   "source": [
    "## 19년 1234분기 연령대별 유동인구 ~ 업종관계"
   ]
  },
  {
   "cell_type": "code",
   "execution_count": 112,
   "id": "fa0b23d4",
   "metadata": {},
   "outputs": [],
   "source": [
    "# 19년 1분기\n",
    "\n",
    "for i in range(len(service_nm)):\n",
    "    globals()[f'x_{i}']=price[(price['service_nm']==service_nm[i])&(price['year_quater_cd']==20191)].reset_index(drop=True)\n"
   ]
  },
  {
   "cell_type": "code",
   "execution_count": 28,
   "id": "bd388c36",
   "metadata": {},
   "outputs": [],
   "source": [
    "for i in range(len(service_nm)):\n",
    "    globals()[f'xx{i}']=pd.merge(population,globals()[f'x_{i}'],left_on=['quter','gu'],right_on=['year_quater_cd','autono_nm'])\n",
    "    x=sm.add_constant(globals()[f'xx{i}'][['total','female','male','10','20','30','40','50']])\n",
    "    y=globals()[f'xx{i}'][['month_sales_amount']]\n",
    "    model=sm.OLS(y,x).fit()\n",
    "    print(model.summary())"
   ]
  },
  {
   "cell_type": "code",
   "execution_count": null,
   "id": "d687c182",
   "metadata": {},
   "outputs": [],
   "source": [
    "# 19년 1분기 결과\n",
    "'''\n",
    "'양식음식점':40\n",
    "'치킨전문점':50\n",
    "'패스트푸드점':40 30(-> 0.051)\n",
    "'일식음식점':40\n",
    "'분식전문점':x (40 -> 0.053)\n",
    "'중식음식점':40\n",
    "'한식음식점':40\n",
    "'호프-간이주점':40 30 (20 -> 0.060)\n",
    "'커피-음료':40 20(-> 0.050)\n",
    "'제과점':40\n",
    "'''"
   ]
  },
  {
   "cell_type": "code",
   "execution_count": 114,
   "id": "5828e1f2",
   "metadata": {},
   "outputs": [],
   "source": [
    "# 19년 2분기\n",
    "\n",
    "for i in range(len(service_nm)):\n",
    "    globals()[f'x_{i}']=price[(price['service_nm']==service_nm[i])&(price['year_quater_cd']==20192)].reset_index(drop=True)\n"
   ]
  },
  {
   "cell_type": "code",
   "execution_count": 29,
   "id": "88c8bd63",
   "metadata": {},
   "outputs": [],
   "source": [
    "for i in range(len(service_nm)):\n",
    "    globals()[f'xx{i}']=pd.merge(population,globals()[f'x_{i}'],left_on=['quter','gu'],right_on=['year_quater_cd','autono_nm'])\n",
    "    x=sm.add_constant(globals()[f'xx{i}'][['total','female','male','10','20','30','40','50']])\n",
    "    y=globals()[f'xx{i}'][['month_sales_amount']]\n",
    "    model=sm.OLS(y,x).fit()\n",
    "    print(model.summary())"
   ]
  },
  {
   "cell_type": "code",
   "execution_count": null,
   "id": "9fa7cda7",
   "metadata": {},
   "outputs": [],
   "source": [
    "# 19년 2분기 결과\n",
    "'''\n",
    "'양식음식점':40 (전체 남 여 -> 0.052)\n",
    "'치킨전문점':x\n",
    "'패스트푸드점':40\n",
    "'일식음식점':40\n",
    "'분식전문점':40\n",
    "'중식음식점':40\n",
    "'한식음식점':40\n",
    "'호프-간이주점':40 30 20 (50 -> 0.063)\n",
    "'커피-음료':40 (20 -> 0.060)\n",
    "'제과점':40\n",
    "'''"
   ]
  },
  {
   "cell_type": "code",
   "execution_count": 116,
   "id": "8340bba2",
   "metadata": {},
   "outputs": [],
   "source": [
    "# 19년 3분기\n",
    "\n",
    "for i in range(len(service_nm)):\n",
    "    globals()[f'x_{i}']=price[(price['service_nm']==service_nm[i])&(price['year_quater_cd']==20193)].reset_index(drop=True)\n"
   ]
  },
  {
   "cell_type": "code",
   "execution_count": 30,
   "id": "e544750e",
   "metadata": {},
   "outputs": [],
   "source": [
    "for i in range(len(service_nm)):\n",
    "    globals()[f'xx{i}']=pd.merge(population,globals()[f'x_{i}'],left_on=['quter','gu'],right_on=['year_quater_cd','autono_nm'])\n",
    "    x=sm.add_constant(globals()[f'xx{i}'][['total','female','male','10','20','30','40','50']])\n",
    "    y=globals()[f'xx{i}'][['month_sales_amount']]\n",
    "    model=sm.OLS(y,x).fit()\n",
    "    print(model.summary())"
   ]
  },
  {
   "cell_type": "code",
   "execution_count": null,
   "id": "e78166e2",
   "metadata": {},
   "outputs": [],
   "source": [
    "# 19년 3분기 결과\n",
    "'''\n",
    "'양식음식점':40\n",
    "'치킨전문점':x\n",
    "'패스트푸드점':40\n",
    "'일식음식점':40\n",
    "'분식전문점':40\n",
    "'중식음식점':40\n",
    "'한식음식점':40 (전체 여 남 -> 0.059)\n",
    "'호프-간이주점':40 30 (20 -> 0.067)\n",
    "'커피-음료': 40 20\n",
    "'제과점':40\n",
    "'''"
   ]
  },
  {
   "cell_type": "code",
   "execution_count": 118,
   "id": "dbe99628",
   "metadata": {},
   "outputs": [],
   "source": [
    "# 19년 4분기\n",
    "\n",
    "for i in range(len(service_nm)):\n",
    "    globals()[f'x_{i}']=price[(price['service_nm']==service_nm[i])&(price['year_quater_cd']==20194)].reset_index(drop=True)\n"
   ]
  },
  {
   "cell_type": "code",
   "execution_count": 31,
   "id": "fc0a747b",
   "metadata": {},
   "outputs": [],
   "source": [
    "for i in range(len(service_nm)):\n",
    "    globals()[f'xx{i}']=pd.merge(population,globals()[f'x_{i}'],left_on=['quter','gu'],right_on=['year_quater_cd','autono_nm'])\n",
    "    x=sm.add_constant(globals()[f'xx{i}'][['total','female','male','10','20','30','40','50']])\n",
    "    y=globals()[f'xx{i}'][['month_sales_amount']]\n",
    "    model=sm.OLS(y,x).fit()\n",
    "    print(model.summary())"
   ]
  },
  {
   "cell_type": "code",
   "execution_count": null,
   "id": "cf237807",
   "metadata": {},
   "outputs": [],
   "source": [
    "# 19년 4분기 결과\n",
    "'''\n",
    "'양식음식점':40\n",
    "'치킨전문점':40\n",
    "'패스트푸드점':40\n",
    "'일식음식점':40\n",
    "'분식전문점':40\n",
    "'중식음식점':40\n",
    "'한식음식점':40\n",
    "'호프-간이주점':40\n",
    "'커피-음료':40\n",
    "'제과점':40\n",
    "'''"
   ]
  },
  {
   "cell_type": "code",
   "execution_count": null,
   "id": "ce8e24a7",
   "metadata": {},
   "outputs": [],
   "source": []
  },
  {
   "cell_type": "code",
   "execution_count": 1,
   "id": "7e1c6f25",
   "metadata": {},
   "outputs": [],
   "source": [
    "# >> 치킨전문점은 일부 연도를 제외하면 유동인구와 상관관계가 없음을 확인할 수 있다.\n",
    "# >> 이를통해 치킨전문점은 특정 나이대에 관계없이 모든 연령대에서 소비함을 예상해볼 수 있을 것같다.\n",
    "\n",
    "# >> 치킨전문점을 제외한 업종 대부분이 40대 유동인구와 상관관계가 있음을 확인할 수 있다(자녀 때문인가?.?)\n",
    "# >> 1차 후보지 -> 40대 유동인구가 많은 자치구에 개업하면 다른 곳보다는 매출이 잘 나올 것이라고 예상해볼 수 있다."
   ]
  },
  {
   "cell_type": "markdown",
   "id": "096d87a8",
   "metadata": {},
   "source": [
    "## 40대 유동인구가 많은 자치구"
   ]
  },
  {
   "cell_type": "code",
   "execution_count": 32,
   "id": "79cd1cc4",
   "metadata": {},
   "outputs": [],
   "source": [
    "# >> 자치구별 40대 유동인구 순위\n",
    "sql = \"\"\"\n",
    "SELECT\n",
    "  autono_nm,\n",
    "  SUM(gen40_floating_pop) AS gen40_floating_pop\n",
    "FROM\n",
    "  `restaurant_consumption.pop_by_road`\n",
    "GROUP BY\n",
    "  autono_nm\n",
    "ORDER BY\n",
    "  2 DESC\n",
    "LIMIT\n",
    "  5\n",
    "\"\"\"\n",
    "pop_40 = client.query(sql).to_dataframe()\n",
    "pop_40\n",
    "\n",
    "# 1차 후보지: (아래 표)"
   ]
  },
  {
   "cell_type": "code",
   "execution_count": 37,
   "id": "46141dc5",
   "metadata": {},
   "outputs": [],
   "source": [
    "explode = [0.1, 0, 0, 0,0]\n",
    "plt.pie(\n",
    "    pop_40[\"gen40_floating_pop\"], \n",
    "    labels=pop_40[\"autono_nm\"], \n",
    "    autopct='%.1f%%',\n",
    "    startangle=90,\n",
    "    counterclock=False,\n",
    "    colors=sns.color_palette(\"pastel\"),\n",
    "    wedgeprops = {'width':0.7,'edgecolor':'w','linewidth':3},\n",
    "    explode=explode\n",
    ")\n",
    "plt.title(\"40대 유동인구 Top5\")\n",
    "plt.show()"
   ]
  },
  {
   "cell_type": "code",
   "execution_count": 38,
   "id": "99ec97c6",
   "metadata": {},
   "outputs": [],
   "source": [
    "sns.set_palette(sns.color_palette(\"pastel\"))\n",
    "sns.barplot(\n",
    "    data = pop_40,\n",
    "    x = 'autono_nm',\n",
    "    y = 'gen40_floating_pop'\n",
    ").set(\n",
    "    title = \"40대 유동인구 Top5\"\n",
    ")"
   ]
  },
  {
   "cell_type": "code",
   "execution_count": null,
   "id": "8e5c678a",
   "metadata": {},
   "outputs": [],
   "source": []
  },
  {
   "cell_type": "markdown",
   "id": "7aa92e1f",
   "metadata": {},
   "source": [
    "## 자치구별 음식업종 비율"
   ]
  },
  {
   "cell_type": "code",
   "execution_count": 39,
   "id": "c93c7f8b",
   "metadata": {
    "scrolled": false
   },
   "outputs": [],
   "source": [
    "# 구별 전체 음식점 수 (40대 유동인구 Top5에 포함된 자치구만)\n",
    "sql = \"\"\"\n",
    "SELECT\n",
    "  autono_nm,\n",
    "  SUM(store_cnt+similar_store_cnt) as total_cnt\n",
    "FROM\n",
    "  `restaurant_consumption.store`\n",
    "WHERE\n",
    "  (service_nm LIKE \"%점\" OR service_nm LIKE \"커피%\")\n",
    "  AND service_nm NOT IN(\"편의점\", \"철물점\", \"한복점\", \"재생용품 판매점\")\n",
    "  AND autono_nm IN('강남구', '송파구','마포구','관악구','서초구')\n",
    "GROUP BY\n",
    "  autono_nm\n",
    "ORDER BY\n",
    "  autono_nm\n",
    "\"\"\"\n",
    "store_all = client.query(sql).to_dataframe()\n",
    "store_all"
   ]
  },
  {
   "cell_type": "code",
   "execution_count": 40,
   "id": "5d23ec25",
   "metadata": {},
   "outputs": [],
   "source": [
    "store_total_cnt = list(store_all[\"total_cnt\"])\n",
    "store_total_cnt"
   ]
  },
  {
   "cell_type": "code",
   "execution_count": 41,
   "id": "df211dac",
   "metadata": {},
   "outputs": [],
   "source": [
    "# 강남구 음식업별 점포 수\n",
    "sql = \"\"\"\n",
    "SELECT\n",
    "  service_nm,\n",
    "  SUM(store_cnt+similar_store_cnt) as total_cnt\n",
    "FROM\n",
    "  `restaurant_consumption.store`\n",
    "WHERE\n",
    "  (service_nm LIKE \"%점\" OR service_nm LIKE \"커피%\")\n",
    "  AND service_nm NOT IN(\"편의점\", \"철물점\", \"한복점\", \"재생용품 판매점\")\n",
    "  and autono_nm like '%강남%'\n",
    "GROUP BY\n",
    "  service_nm\n",
    "ORDER BY\n",
    "  service_nm\n",
    "\"\"\"\n",
    "store_gangnam = client.query(sql).to_dataframe()\n",
    "\n",
    "# 업종 점포 수 / (자치구별)전체 업종 수\n",
    "store_gangnam[\"total_rat\"] = (round(store_gangnam[\"total_cnt\"] / store_total_cnt[0], 3))\n",
    "store_gangnam"
   ]
  },
  {
   "cell_type": "code",
   "execution_count": 42,
   "id": "dfeb0006",
   "metadata": {},
   "outputs": [],
   "source": [
    "store_gangnam = store_gangnam.sort_values(\"total_rat\", ascending=False)\n",
    "store_gangnam = store_gangnam[0:5]\n",
    "store_gangnam"
   ]
  },
  {
   "cell_type": "code",
   "execution_count": 43,
   "id": "421ea13a",
   "metadata": {},
   "outputs": [],
   "source": [
    "explode = [0, 0, 0.1, 0, 0]\n",
    "plt.pie(\n",
    "    store_gangnam[\"total_rat\"], \n",
    "    labels=store_gangnam[\"service_nm\"],\n",
    "    autopct='%.1f%%',\n",
    "    startangle=90,\n",
    "    counterclock=False,\n",
    "    colors=sns.color_palette(\"pastel\"),\n",
    "    wedgeprops = {'width':0.7,'edgecolor':'w','linewidth':3},\n",
    "    explode = explode\n",
    ")\n",
    "plt.title(\"강남구 업종비율 Top5\")\n",
    "plt.show()"
   ]
  },
  {
   "cell_type": "code",
   "execution_count": 44,
   "id": "0f0c0a68",
   "metadata": {},
   "outputs": [],
   "source": [
    "# 관악구 음식업별 점포 수\n",
    "sql = \"\"\"\n",
    "SELECT\n",
    "  service_nm,\n",
    "  SUM(store_cnt+similar_store_cnt) as total_cnt\n",
    "FROM\n",
    "  `restaurant_consumption.store`\n",
    "WHERE\n",
    "  (service_nm LIKE \"%점\" OR service_nm LIKE \"커피%\")\n",
    "  AND service_nm NOT IN(\"편의점\", \"철물점\", \"한복점\", \"재생용품 판매점\")\n",
    "  and autono_nm like '%관악%'\n",
    "GROUP BY\n",
    "  service_nm\n",
    "ORDER BY\n",
    "  service_nm\n",
    "\"\"\"\n",
    "store_gwanak = client.query(sql).to_dataframe()\n",
    "\n",
    "# 업종 점포 수 / (자치구별)전체 업종 수\n",
    "store_gwanak[\"total_rat\"] = (round(store_gwanak[\"total_cnt\"] / store_total_cnt[1], 3))\n",
    "store_gwanak"
   ]
  },
  {
   "cell_type": "code",
   "execution_count": 45,
   "id": "f4a77000",
   "metadata": {},
   "outputs": [],
   "source": [
    "store_gwanak = store_gwanak.sort_values(\"total_rat\", ascending=False)[0:5]\n",
    "store_gwanak"
   ]
  },
  {
   "cell_type": "code",
   "execution_count": 46,
   "id": "5983f1cb",
   "metadata": {},
   "outputs": [],
   "source": [
    "explode = [0, 0, 0.1, 0, 0]\n",
    "plt.pie(\n",
    "    store_gwanak[\"total_rat\"], \n",
    "    labels=store_gwanak[\"service_nm\"],\n",
    "    autopct='%.1f%%',\n",
    "    startangle=90,\n",
    "    counterclock=False,\n",
    "    colors=sns.color_palette(\"pastel\"),\n",
    "    wedgeprops = {'width':0.7,'edgecolor':'w','linewidth':3},\n",
    "    explode = explode\n",
    ")\n",
    "plt.title(\"관악구 업종비율 Top5\")\n",
    "plt.show()"
   ]
  },
  {
   "cell_type": "code",
   "execution_count": 62,
   "id": "2132029e",
   "metadata": {},
   "outputs": [],
   "source": [
    "# 마포구 음식업별 점포 수\n",
    "sql = \"\"\"\n",
    "SELECT\n",
    "  service_nm,\n",
    "  SUM(store_cnt+similar_store_cnt) as total_cnt\n",
    "FROM\n",
    "  `restaurant_consumption.store`\n",
    "WHERE\n",
    "  (service_nm LIKE \"%점\" OR service_nm LIKE \"커피%\")\n",
    "  AND service_nm NOT IN(\"편의점\", \"철물점\", \"한복점\", \"재생용품 판매점\")\n",
    "  and autono_nm like '%마포%'\n",
    "GROUP BY\n",
    "  service_nm\n",
    "ORDER BY\n",
    "  service_nm\n",
    "\"\"\"\n",
    "store_mapo = client.query(sql).to_dataframe()\n",
    "\n",
    "# 업종 점포 수 / (자치구별)전체 업종 수\n",
    "store_mapo[\"total_rat\"] = (round(store_mapo[\"total_cnt\"] / store_total_cnt[2], 3))\n",
    "store_mapo"
   ]
  },
  {
   "cell_type": "code",
   "execution_count": 63,
   "id": "83217bc6",
   "metadata": {},
   "outputs": [],
   "source": [
    "store_mapo = store_mapo.sort_values(\"total_rat\", ascending=False)[0:5]\n",
    "store_mapo"
   ]
  },
  {
   "cell_type": "code",
   "execution_count": 64,
   "id": "3973d53e",
   "metadata": {},
   "outputs": [],
   "source": [
    "explode = [0, 0, 0.1, 0, 0]\n",
    "plt.pie(\n",
    "    store_mapo[\"total_rat\"], \n",
    "    labels=store_mapo[\"service_nm\"],\n",
    "    autopct='%.1f%%',\n",
    "    startangle=90,\n",
    "    counterclock=False,\n",
    "    colors=sns.color_palette(\"pastel\"),\n",
    "    wedgeprops = {'width':0.7,'edgecolor':'w','linewidth':3},\n",
    "    explode=explode\n",
    ")\n",
    "plt.title(\"마포구 업종비율 Top5\")\n",
    "plt.show()"
   ]
  },
  {
   "cell_type": "code",
   "execution_count": 65,
   "id": "e36ba375",
   "metadata": {},
   "outputs": [],
   "source": [
    "# 서초 음식업별 점포 수\n",
    "sql = \"\"\"\n",
    "SELECT\n",
    "  service_nm,\n",
    "  SUM(store_cnt+similar_store_cnt) as total_cnt\n",
    "FROM\n",
    "  `restaurant_consumption.store`\n",
    "WHERE\n",
    "  (service_nm LIKE \"%점\" OR service_nm LIKE \"커피%\")\n",
    "  AND service_nm NOT IN(\"편의점\", \"철물점\", \"한복점\", \"재생용품 판매점\")\n",
    "  and autono_nm like '%서초%'\n",
    "GROUP BY\n",
    "  service_nm\n",
    "ORDER BY\n",
    "  service_nm\n",
    "\"\"\"\n",
    "store_seocho = client.query(sql).to_dataframe()\n",
    "\n",
    "# 업종 점포 수 / (자치구별)전체 업종 수\n",
    "store_seocho[\"total_rat\"] = (round(store_seocho[\"total_cnt\"] / store_total_cnt[3], 3))\n",
    "store_seocho"
   ]
  },
  {
   "cell_type": "code",
   "execution_count": 66,
   "id": "ca724f54",
   "metadata": {},
   "outputs": [],
   "source": [
    "store_seocho = store_seocho.sort_values(\"total_rat\", ascending=False)[0:5]\n",
    "store_seocho"
   ]
  },
  {
   "cell_type": "code",
   "execution_count": 67,
   "id": "80e4d1ba",
   "metadata": {},
   "outputs": [],
   "source": [
    "explode = [0, 0, 0.1, 0, 0]\n",
    "plt.pie(\n",
    "    store_seocho[\"total_rat\"], \n",
    "    labels=store_seocho[\"service_nm\"],\n",
    "    autopct='%.1f%%',\n",
    "    startangle=90,\n",
    "    counterclock=False,\n",
    "    colors=sns.color_palette(\"pastel\"),\n",
    "    wedgeprops = {'width':0.7,'edgecolor':'w','linewidth':3},\n",
    "    explode=explode\n",
    ")\n",
    "plt.title(\"서초구 업종비율 Top5\")\n",
    "plt.show()"
   ]
  },
  {
   "cell_type": "code",
   "execution_count": 71,
   "id": "0e9b4a41",
   "metadata": {},
   "outputs": [],
   "source": [
    "# 송파구 음식업별 점포 수\n",
    "sql = \"\"\"\n",
    "SELECT\n",
    "  service_nm,\n",
    "  SUM(store_cnt+similar_store_cnt) as total_cnt\n",
    "FROM\n",
    "  `restaurant_consumption.store`\n",
    "WHERE\n",
    "  (service_nm LIKE \"%점\" OR service_nm LIKE \"커피%\")\n",
    "  AND service_nm NOT IN(\"편의점\", \"철물점\", \"한복점\", \"재생용품 판매점\")\n",
    "  and autono_nm like '%송파%'\n",
    "GROUP BY\n",
    "  service_nm\n",
    "ORDER BY\n",
    "  service_nm\n",
    "\"\"\"\n",
    "store_songpa = client.query(sql).to_dataframe()\n",
    "\n",
    "# 업종 점포 수 / (자치구별)전체 업종 수\n",
    "store_songpa[\"total_rat\"] = (round(store_songpa[\"total_cnt\"] / store_total_cnt[4], 3))\n",
    "store_songpa"
   ]
  },
  {
   "cell_type": "code",
   "execution_count": 70,
   "id": "4c274564",
   "metadata": {},
   "outputs": [],
   "source": [
    "store_songpa = store_songpa.sort_values(\"total_rat\", ascending=False)[0:5]\n",
    "store_songpa"
   ]
  },
  {
   "cell_type": "code",
   "execution_count": 68,
   "id": "fc4dd789",
   "metadata": {},
   "outputs": [],
   "source": [
    "explode = [0, 0, 0.1, 0, 0]\n",
    "plt.pie(\n",
    "    store_songpa[\"total_rat\"], \n",
    "    labels=store_songpa[\"service_nm\"],\n",
    "    autopct='%.1f%%',\n",
    "    startangle=90,\n",
    "    counterclock=False,\n",
    "    colors=sns.color_palette(\"pastel\"),\n",
    "    wedgeprops = {'width':0.7,'edgecolor':'w','linewidth':3},\n",
    "    explode=explode\n",
    ")\n",
    "plt.title(\"송파구 업종비율 Top5\")\n",
    "plt.show()"
   ]
  },
  {
   "cell_type": "code",
   "execution_count": null,
   "id": "295f41cc",
   "metadata": {},
   "outputs": [],
   "source": []
  },
  {
   "cell_type": "markdown",
   "id": "b3148b44",
   "metadata": {},
   "source": [
    "## 40대 유동인구대비 점포 수"
   ]
  },
  {
   "cell_type": "code",
   "execution_count": 59,
   "id": "42631cc9",
   "metadata": {},
   "outputs": [],
   "source": [
    "pop_40"
   ]
  },
  {
   "cell_type": "code",
   "execution_count": 58,
   "id": "4dfc06d5",
   "metadata": {},
   "outputs": [],
   "source": [
    "pop_40_cnt = list(pop_40[\"gen40_floating_pop\"])\n",
    "pop_40_cnt"
   ]
  },
  {
   "cell_type": "code",
   "execution_count": 57,
   "id": "1ecc19e9",
   "metadata": {},
   "outputs": [],
   "source": [
    "# 강남구 40대 유동인구 대비 점포 비율\n",
    "store_gangnam[\"per_40fp\"] = (store_gangnam[\"total_cnt\"] / pop_40_cnt[0])\n",
    "store_gangnam"
   ]
  },
  {
   "cell_type": "code",
   "execution_count": 56,
   "id": "630e2be6",
   "metadata": {},
   "outputs": [],
   "source": [
    "explode = [0, 0, 0.1, 0, 0]\n",
    "plt.pie( \n",
    "    store_gangnam[\"per_40fp\"], \n",
    "    labels=store_gangnam[\"service_nm\"],\n",
    "    autopct='%.1f%%',\n",
    "    startangle=90,\n",
    "    counterclock=False,\n",
    "    colors=sns.color_palette(\"pastel\"),\n",
    "    wedgeprops = {'width':0.7,'edgecolor':'w','linewidth':3},\n",
    "    explode=explode\n",
    ")\n",
    "plt.title(\"강남구 40대 유동인구~점포\")\n",
    "plt.show()"
   ]
  },
  {
   "cell_type": "code",
   "execution_count": 55,
   "id": "f9aca19e",
   "metadata": {},
   "outputs": [],
   "source": [
    "# 관악구 40대 유동인구 대비 점포 비율\n",
    "store_gwanak[\"per_40fp\"] = (store_gwanak[\"total_cnt\"] / pop_40_cnt[1])\n",
    "store_gwanak"
   ]
  },
  {
   "cell_type": "code",
   "execution_count": 53,
   "id": "e6472310",
   "metadata": {},
   "outputs": [],
   "source": [
    "explode = [0, 0.1, 0, 0, 0]\n",
    "plt.pie(\n",
    "    store_gwanak[\"per_40fp\"], \n",
    "    labels=store_gwanak[\"service_nm\"],\n",
    "    autopct='%.1f%%',\n",
    "    startangle=90,\n",
    "    counterclock=False,\n",
    "    colors=sns.color_palette(\"pastel\"),\n",
    "    wedgeprops = {'width':0.7,'edgecolor':'w','linewidth':3},\n",
    "    explode = explode\n",
    ")\n",
    "plt.title(\"관악구 40대 유동인구~점포\")\n",
    "plt.show()\n"
   ]
  },
  {
   "cell_type": "code",
   "execution_count": 61,
   "id": "cd2b3f5e",
   "metadata": {},
   "outputs": [],
   "source": [
    "# 마포구 40대 유동인구 대비 점포 비율\n",
    "store_mapo[\"per_40fp\"] = (store_mapo[\"total_cnt\"] / pop_40_cnt[2])\n",
    "store_mapo"
   ]
  },
  {
   "cell_type": "code",
   "execution_count": 51,
   "id": "d6a358c9",
   "metadata": {},
   "outputs": [],
   "source": [
    "explode = [0.1, 0, 0.1, 0, 0]\n",
    "plt.pie(\n",
    "    store_mapo[\"per_40fp\"], \n",
    "    labels=store_mapo[\"service_nm\"],\n",
    "    autopct='%.1f%%',\n",
    "    startangle=90,\n",
    "    counterclock=False,\n",
    "    colors=sns.color_palette(\"pastel\"),\n",
    "    wedgeprops = {'width':0.7,'edgecolor':'w','linewidth':3},\n",
    "    explode = explode\n",
    ")\n",
    "plt.title(\"마포구 40대 유동인구~점포\")\n",
    "plt.show()\n"
   ]
  },
  {
   "cell_type": "code",
   "execution_count": 50,
   "id": "cde87d30",
   "metadata": {},
   "outputs": [],
   "source": [
    "# 서초구 40대 유동인구 대비 점포 비율\n",
    "store_seocho[\"per_40fp\"] = (store_seocho[\"total_cnt\"] / pop_40_cnt[3])\n",
    "store_seocho"
   ]
  },
  {
   "cell_type": "code",
   "execution_count": 49,
   "id": "b81c90fa",
   "metadata": {},
   "outputs": [],
   "source": [
    "explode = [0, 0, 0.1, 0, 0]\n",
    "plt.pie(\n",
    "    store_seocho[\"per_40fp\"], \n",
    "    labels=store_seocho[\"service_nm\"],\n",
    "    autopct='%.1f%%',\n",
    "    startangle=90,\n",
    "    counterclock=False,\n",
    "    colors=sns.color_palette(\"pastel\"),\n",
    "    wedgeprops = {'width':0.7,'edgecolor':'w','linewidth':3},\n",
    "    explode = explode\n",
    ")\n",
    "plt.title(\"서초구 40대 유동인구~점포\")\n",
    "plt.show()\n"
   ]
  },
  {
   "cell_type": "code",
   "execution_count": 48,
   "id": "1d485fd3",
   "metadata": {},
   "outputs": [],
   "source": [
    "# 송파구 40대 유동인구 대비 점포 비율\n",
    "store_songpa[\"per_40fp\"] = (store_songpa[\"total_cnt\"] / pop_40_cnt[4])\n",
    "store_songpa"
   ]
  },
  {
   "cell_type": "code",
   "execution_count": 47,
   "id": "eb977854",
   "metadata": {},
   "outputs": [],
   "source": [
    "explode = [0, 0, 0.1, 0, 0]\n",
    "plt.pie(\n",
    "    store_songpa[\"per_40fp\"], \n",
    "    labels=store_songpa[\"service_nm\"],\n",
    "    autopct='%.1f%%',\n",
    "    startangle=90,\n",
    "    counterclock=False,\n",
    "    colors=sns.color_palette(\"pastel\"),\n",
    "    wedgeprops = {'width':0.7,'edgecolor':'w','linewidth':3},\n",
    "    explode = explode\n",
    ")\n",
    "plt.title(\"송파구 40대 유동인구~점포\")\n",
    "plt.show()\n"
   ]
  },
  {
   "cell_type": "markdown",
   "id": "df31c404",
   "metadata": {},
   "source": [
    "## 최종 결론"
   ]
  },
  {
   "cell_type": "code",
   "execution_count": 131,
   "id": "7cba8dc1",
   "metadata": {},
   "outputs": [],
   "source": [
    "# 강남구\n",
    "# >> 양식, 분식, 일식\n",
    "\n",
    "# 관악\n",
    "# >> 카페(대학생 타겟), 분식, 술집, 일식\n",
    "\n",
    "# 마포\n",
    "# >> 양식, 유흥주점, 분식\n",
    "\n",
    "# 서초\n",
    "# >> 분식, 양식, 일식\n",
    "\n",
    "# 송파\n",
    "# >> 분식, 일식, 유흥주점"
   ]
  },
  {
   "cell_type": "code",
   "execution_count": null,
   "id": "22b5aa0c",
   "metadata": {},
   "outputs": [],
   "source": []
  }
 ],
 "metadata": {
  "kernelspec": {
   "display_name": "Python 3 (ipykernel)",
   "language": "python",
   "name": "python3"
  },
  "language_info": {
   "codemirror_mode": {
    "name": "ipython",
    "version": 3
   },
   "file_extension": ".py",
   "mimetype": "text/x-python",
   "name": "python",
   "nbconvert_exporter": "python",
   "pygments_lexer": "ipython3",
   "version": "3.11.5"
  }
 },
 "nbformat": 4,
 "nbformat_minor": 5
}
