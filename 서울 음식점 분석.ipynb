{
 "cells": [
  {
   "cell_type": "code",
   "execution_count": 2,
   "id": "32559c88",
   "metadata": {},
   "outputs": [],
   "source": [
    "import csv\n",
    "import pandas as pd\n",
    "from matplotlib import pyplot as plt\n",
    "import seaborn as sns\n",
    "import numpy as np\n",
    "import math\n",
    "import scipy.stats as stats"
   ]
  },
  {
   "cell_type": "code",
   "execution_count": 3,
   "id": "697e8082",
   "metadata": {},
   "outputs": [],
   "source": [
    "# 글씨 깨짐 방지\n",
    "from matplotlib import rc  \n",
    "rc('font', family='AppleGothic')\n",
    "plt.rcParams['axes.unicode_minus'] = False "
   ]
  },
  {
   "cell_type": "code",
   "execution_count": 4,
   "id": "718882e5",
   "metadata": {},
   "outputs": [],
   "source": [
    "# 빅쿼리에 접근\n",
    "\n",
    "from google.oauth2 import service_account\n",
    "\n",
    "credentials = service_account.Credentials.from_service_account_file(\"json파일경로\")"
   ]
  },
  {
   "cell_type": "code",
   "execution_count": 5,
   "id": "9e0caf3f",
   "metadata": {},
   "outputs": [],
   "source": [
    "from google.cloud import bigquery\n",
    "\n",
    "client = bigquery.Client(\n",
    "    credentials = credentials,\n",
    "    project = credentials.project_id\n",
    ")"
   ]
  },
  {
   "cell_type": "code",
   "execution_count": null,
   "id": "422cb333",
   "metadata": {},
   "outputs": [],
   "source": []
  },
  {
   "cell_type": "code",
   "execution_count": 1,
   "id": "c613b59c",
   "metadata": {},
   "outputs": [],
   "source": [
    "# 점포 데이터 결측치\n",
    "sql = \"\"\"\n",
    "SELECT\n",
    "  *\n",
    "FROM\n",
    "  `restaurant_consumption.store`\n",
    "WHERE\n",
    "  (service_nm LIKE \"%점\"\n",
    "    OR service_nm LIKE \"커피%\")\n",
    "  AND service_nm NOT IN(\"편의점\",\n",
    "    \"철물점\",\n",
    "    \"%한복%\",\n",
    "    \"%생활%\")\n",
    "\"\"\"\n",
    "store = client.query(sql).to_dataframe()\n",
    "store"
   ]
  },
  {
   "cell_type": "code",
   "execution_count": 2,
   "id": "66b5f8f3",
   "metadata": {},
   "outputs": [],
   "source": [
    "store.isnull().sum()"
   ]
  },
  {
   "cell_type": "code",
   "execution_count": 4,
   "id": "53294cec",
   "metadata": {},
   "outputs": [],
   "source": [
    "# 유동인구 데이터 결측치\n",
    "sql = \"\"\"\n",
    "SELECT\n",
    "  *\n",
    "FROM\n",
    "  `restaurant_consumption.pop_by_road`\n",
    "\"\"\"\n",
    "population = client.query(sql).to_dataframe()\n",
    "population"
   ]
  },
  {
   "cell_type": "code",
   "execution_count": 5,
   "id": "1c7bd506",
   "metadata": {},
   "outputs": [],
   "source": [
    "population.isnull().sum()"
   ]
  },
  {
   "cell_type": "code",
   "execution_count": 6,
   "id": "d6f57022",
   "metadata": {},
   "outputs": [],
   "source": [
    "# 소득/소비 데이터 결측치\n",
    "sql = \"\"\"\n",
    "SELECT\n",
    "  *\n",
    "FROM\n",
    "  `restaurant_consumption.income_expense`\n",
    "\"\"\"\n",
    "income = client.query(sql).to_dataframe()\n",
    "income"
   ]
  },
  {
   "cell_type": "code",
   "execution_count": 7,
   "id": "127bc7f9",
   "metadata": {},
   "outputs": [],
   "source": [
    "income.isnull().sum()"
   ]
  },
  {
   "cell_type": "code",
   "execution_count": 8,
   "id": "4d404bfd",
   "metadata": {
    "scrolled": false
   },
   "outputs": [],
   "source": [
    "# 매출 데이터 결측치\n",
    "sql = \"\"\"\n",
    "SELECT\n",
    "  *\n",
    "FROM\n",
    "  `restaurant_consumption.sales`\n",
    "WHERE\n",
    "  (service_nm LIKE \"%점\" OR service_nm LIKE \"커피%\")\n",
    "  AND service_nm NOT IN(\"편의점\", \"철물점\", \"%한복%\", \"%생활%\")\n",
    "\"\"\"\n",
    "sales = client.query(sql).to_dataframe()\n",
    "sales"
   ]
  },
  {
   "cell_type": "code",
   "execution_count": 9,
   "id": "a064c38e",
   "metadata": {},
   "outputs": [],
   "source": [
    "sales.isnull().sum()"
   ]
  },
  {
   "cell_type": "code",
   "execution_count": null,
   "id": "9605b1be",
   "metadata": {},
   "outputs": [],
   "source": []
  },
  {
   "cell_type": "markdown",
   "id": "1db9cf57",
   "metadata": {},
   "source": [
    "### 총 매출"
   ]
  },
  {
   "cell_type": "code",
   "execution_count": 10,
   "id": "7c07e144",
   "metadata": {},
   "outputs": [],
   "source": [
    "sql = \"\"\"\n",
    "SELECT\n",
    "  *\n",
    "FROM\n",
    "  `restaurant_consumption.sales`\n",
    "WHERE\n",
    "  year_quater_cd BETWEEN 20191 AND 20224\n",
    "ORDER BY\n",
    "  year_quater_cd\n",
    "\"\"\"\n",
    "sales = client.query(sql).to_dataframe()\n",
    "sales"
   ]
  },
  {
   "cell_type": "code",
   "execution_count": 11,
   "id": "1d9b7c8e",
   "metadata": {},
   "outputs": [],
   "source": [
    "fig, ax = plt.subplots(ncols=2, nrows=1,  figsize=(10,5))\n",
    "\n",
    "# 총 매출\n",
    "sns.barplot(\n",
    "    data = sales,\n",
    "    x = \"year_quater_cd\",\n",
    "    y = \"month_sales_amount\",\n",
    "    ax = ax[0]\n",
    ").set(\n",
    "    title = \"연도별 총 매출\"\n",
    ")\n",
    "ax[0].set_xticklabels(ax[0].get_xticklabels(), rotation=90)\n",
    "# 총 매출 건수\n",
    "plt.xticks(rotation=90)\n",
    "sns.barplot(\n",
    "    data = sales,\n",
    "    x = \"year_quater_cd\",\n",
    "    y = \"month_sales_cnt\",\n",
    "    ax = ax[1]\n",
    ").set(\n",
    "    title = \"연도별 총 매출 건수\"\n",
    ")\n",
    "ax[1].set_xticklabels(ax[1].get_xticklabels(), rotation=90)"
   ]
  },
  {
   "cell_type": "code",
   "execution_count": 132,
   "id": "d40cead7",
   "metadata": {},
   "outputs": [],
   "source": [
    "sales = sales.drop(sales.iloc[:, 9:22], axis=1)"
   ]
  },
  {
   "cell_type": "code",
   "execution_count": 133,
   "id": "1035b63c",
   "metadata": {},
   "outputs": [],
   "source": [
    "sales = sales.drop([\"year_quater_cd\"], axis=1)\n",
    "sales = sales.drop([\"autono_cd\"], axis=1)\n",
    "sales = sales.drop([\"autono_nm\"], axis=1)\n",
    "sales = sales.drop([\"service_cd\"], axis=1)\n",
    "sales = sales.drop([\"service_nm\"], axis=1)"
   ]
  },
  {
   "cell_type": "code",
   "execution_count": 12,
   "id": "fb1af694",
   "metadata": {},
   "outputs": [],
   "source": [
    "sales"
   ]
  },
  {
   "cell_type": "code",
   "execution_count": 13,
   "id": "8e5f6e69",
   "metadata": {},
   "outputs": [],
   "source": [
    "plt.figure(figsize=(15,12))\n",
    "sns.heatmap(\n",
    "    sales.corr(), \n",
    "    annot = True, \n",
    "    cmap = 'viridis',\n",
    "    linewidth = 1\n",
    ").set(\n",
    "    title = \"총 매출\"\n",
    ")"
   ]
  },
  {
   "cell_type": "code",
   "execution_count": null,
   "id": "e7eec326",
   "metadata": {},
   "outputs": [],
   "source": []
  },
  {
   "cell_type": "markdown",
   "id": "31bb124f",
   "metadata": {},
   "source": [
    "### 소득 소비"
   ]
  },
  {
   "cell_type": "code",
   "execution_count": 39,
   "id": "eca60120",
   "metadata": {},
   "outputs": [],
   "source": [
    "sql = \"\"\"\n",
    "SELECT\n",
    "  *\n",
    "FROM\n",
    "  `restaurant_consumption.income_expense`\n",
    "WHERE \n",
    "  year_quater_cd BETWEEN 20191 AND 20224\n",
    "ORDER BY\n",
    "  year_quater_cd\n",
    "\"\"\"\n",
    "incom = client.query(sql).to_dataframe()"
   ]
  },
  {
   "cell_type": "code",
   "execution_count": 14,
   "id": "a4547f1f",
   "metadata": {},
   "outputs": [],
   "source": [
    "income[\"total_expense\"] = income[\"total_expense\"]\n",
    "income"
   ]
  },
  {
   "cell_type": "code",
   "execution_count": 15,
   "id": "2b0d599f",
   "metadata": {},
   "outputs": [],
   "source": [
    "plt.xticks(rotation=90)\n",
    "sns.barplot(\n",
    "    data = incom,\n",
    "    x = \"year_quater_cd\",\n",
    "    y = \"month_avg_incom\",\n",
    ").set(\n",
    "    title = \"연도별 월평균 총 소득\"\n",
    ")\n",
    "\n",
    "# >> 월 평균 총 소득이 일정하게 나옴 -> 데이터에 이상이 있다고 판단\n",
    "# >> 소득/소비 데이터는 사용하지 않는 것이 좋을 듯 함"
   ]
  },
  {
   "cell_type": "code",
   "execution_count": 16,
   "id": "fec4e984",
   "metadata": {},
   "outputs": [],
   "source": [
    "fig, ax = plt.subplots(ncols=2, nrows=1,  figsize=(10,5))\n",
    "\n",
    "# 총 매출\n",
    "sns.barplot(\n",
    "    data = incom,\n",
    "    x = \"year_quater_cd\",\n",
    "    y = \"month_avg_incom\",\n",
    "    ax = ax[0]\n",
    ").set(\n",
    "    title = \"연도별 월평균 총 소득\"\n",
    ")\n",
    "ax[0].set_xticklabels(ax[0].get_xticklabels(), rotation=90)\n",
    "# 총 매출 건수\n",
    "# plt.xticks(rotation=90)\n",
    "# sns.barplot(\n",
    "#     data = sales,\n",
    "#     x = \"year_quater_cd\",\n",
    "#     y = \"total_expense\",\n",
    "#     ax = ax[1]\n",
    "# ).set(\n",
    "#     title = \"연도별 총 소비\"\n",
    "# )\n",
    "# ax[1].set_xticklabels(ax[1].get_xticklabels(), rotation=90)\n",
    "\n",
    "\n"
   ]
  },
  {
   "cell_type": "markdown",
   "id": "747401ea",
   "metadata": {},
   "source": [
    "### 유동인구"
   ]
  },
  {
   "cell_type": "code",
   "execution_count": 17,
   "id": "aff6e302",
   "metadata": {},
   "outputs": [],
   "source": [
    "sql = \"\"\"\n",
    "SELECT\n",
    "  *\n",
    "FROM\n",
    "  `restaurant_consumption.pop_by_road`\n",
    "WHERE\n",
    "  year_quater_cd BETWEEN 20191 AND 20224\n",
    "ORDER BY\n",
    "  year_quater_cd\n",
    "\"\"\"\n",
    "population = client.query(sql).to_dataframe()\n",
    "population"
   ]
  },
  {
   "cell_type": "code",
   "execution_count": null,
   "id": "a58e189a",
   "metadata": {},
   "outputs": [],
   "source": []
  },
  {
   "cell_type": "code",
   "execution_count": 159,
   "id": "4dca6b3a",
   "metadata": {},
   "outputs": [],
   "source": [
    "population = population.drop(population.iloc[:, 12:], axis=1)"
   ]
  },
  {
   "cell_type": "code",
   "execution_count": 160,
   "id": "bc91f057",
   "metadata": {
    "scrolled": true
   },
   "outputs": [],
   "source": [
    "population = population.drop([\"year_quater_cd\"], axis=1)\n",
    "# population\n",
    "population = population.drop([\"autono_cd\"], axis=1)\n",
    "population = population.drop([\"autono_nm\"], axis=1)"
   ]
  },
  {
   "cell_type": "code",
   "execution_count": 18,
   "id": "6f0b36ce",
   "metadata": {},
   "outputs": [],
   "source": [
    "population"
   ]
  },
  {
   "cell_type": "code",
   "execution_count": 19,
   "id": "9b35612e",
   "metadata": {
    "scrolled": true
   },
   "outputs": [],
   "source": [
    "population.corr()"
   ]
  },
  {
   "cell_type": "code",
   "execution_count": 20,
   "id": "6741582e",
   "metadata": {},
   "outputs": [],
   "source": [
    "plt.figure(figsize=(15,12))\n",
    "sns.heatmap(\n",
    "    population.corr(), \n",
    "    annot = True, \n",
    "    cmap = 'viridis',\n",
    "    linewidth = 1\n",
    ").set(\n",
    "    title = \"유동인구\"\n",
    ")"
   ]
  },
  {
   "cell_type": "code",
   "execution_count": 21,
   "id": "be3238d4",
   "metadata": {},
   "outputs": [],
   "source": [
    "fig, ax = plt.subplots(ncols=2, nrows=1,  figsize=(10,5))\n",
    "\n",
    "# 연도별 유동인구\n",
    "sns.barplot(\n",
    "    data = population,\n",
    "    x = \"year_quater_cd\",\n",
    "    y = \"total_floating_pop\",\n",
    "    ax = ax[0]\n",
    ").set(\n",
    "    title = \"연도별 총 유동인구\"\n",
    ")\n",
    "ax[0].set_xticklabels(ax[0].get_xticklabels(), rotation=90)\n",
    "# 자치구별 유동인구\n",
    "plt.xticks(rotation=90)\n",
    "sns.barplot(\n",
    "    data = population,\n",
    "    x = \"autono_nm\",\n",
    "    y = \"total_floating_pop\",\n",
    "    ax = ax[1]\n",
    ").set(\n",
    "    title = \"자치구별 총 유동인구\"\n",
    ")\n",
    "ax[1].set_xticklabels(ax[1].get_xticklabels(), rotation=90)\n"
   ]
  },
  {
   "cell_type": "markdown",
   "id": "6be6dc61",
   "metadata": {},
   "source": [
    "### 점포"
   ]
  },
  {
   "cell_type": "code",
   "execution_count": 22,
   "id": "75a3c2cc",
   "metadata": {},
   "outputs": [],
   "source": [
    "sql = \"\"\"\n",
    "SELECT\n",
    "  *\n",
    "FROM\n",
    "  `restaurant_consumption.store`\n",
    "WHERE\n",
    "  year_quater_cd BETWEEN 20191 AND 20224\n",
    "ORDER BY\n",
    "  year_quater_cd\n",
    "\"\"\"\n",
    "store = client.query(sql).to_dataframe()\n",
    "store"
   ]
  },
  {
   "cell_type": "code",
   "execution_count": 23,
   "id": "c379cff5",
   "metadata": {},
   "outputs": [],
   "source": [
    "fig, ax = plt.subplots(ncols=3, nrows=1,  figsize=(10,5))\n",
    "\n",
    "# 총 점포\n",
    "sns.barplot(\n",
    "    data = store,\n",
    "    x = \"year_quater_cd\",\n",
    "    y = store['store_cnt'] + store['similar_store_cnt'],\n",
    "    ax = ax[0]\n",
    ").set(\n",
    "    title = \"전체 점포\"\n",
    ")\n",
    "ax[0].set_xticklabels(ax[0].get_xticklabels(), rotation=90)\n",
    "# 개업 점포\n",
    "plt.xticks(rotation=90)\n",
    "sns.barplot(\n",
    "    data = store,\n",
    "    x = \"year_quater_cd\",\n",
    "    y = \"open_store_cnt\",\n",
    "    ax = ax[1]\n",
    ").set(\n",
    "    title = \"개업 점포\"\n",
    ")\n",
    "ax[1].set_xticklabels(ax[1].get_xticklabels(), rotation=90)\n",
    "# 폐업 점포\n",
    "plt.xticks(rotation=90)\n",
    "sns.barplot(\n",
    "    data = store,\n",
    "    x = \"year_quater_cd\",\n",
    "    y = \"close_store_cnt\",\n",
    "    ax = ax[2]\n",
    ").set(\n",
    "    title = \"폐업 점포\"\n",
    ")\n",
    "ax[2].set_xticklabels(ax[2].get_xticklabels(), rotation=90)"
   ]
  },
  {
   "cell_type": "code",
   "execution_count": 13,
   "id": "4c42655c",
   "metadata": {},
   "outputs": [],
   "source": [
    "store = store.drop([\"year_quater_cd\"], axis=1)\n",
    "store = store.drop([\"autono_cd\"], axis=1)\n",
    "store = store.drop([\"autono_nm\"], axis=1)\n",
    "store = store.drop([\"service_cd\"], axis=1)\n",
    "store = store.drop([\"service_nm\"], axis=1)\n",
    "store = store.drop([\"open_rat\"], axis=1)\n",
    "store = store.drop([\"close_rat\"], axis=1)"
   ]
  },
  {
   "cell_type": "code",
   "execution_count": 24,
   "id": "d692e800",
   "metadata": {},
   "outputs": [],
   "source": [
    "store.corr()"
   ]
  },
  {
   "cell_type": "code",
   "execution_count": 25,
   "id": "a3c77713",
   "metadata": {},
   "outputs": [],
   "source": [
    "sns.heatmap(\n",
    "    store.corr(), \n",
    "    annot = True, \n",
    "    cmap = 'viridis',\n",
    "    linewidth = 1\n",
    ").set(\n",
    "    title = \"점포 수\"\n",
    ")"
   ]
  },
  {
   "cell_type": "code",
   "execution_count": null,
   "id": "9eb7df65",
   "metadata": {},
   "outputs": [],
   "source": []
  },
  {
   "cell_type": "markdown",
   "id": "1e14b0d9",
   "metadata": {},
   "source": [
    "# 개/폐업"
   ]
  },
  {
   "cell_type": "code",
   "execution_count": 26,
   "id": "59623df5",
   "metadata": {
    "scrolled": true
   },
   "outputs": [],
   "source": [
    "# 연도별 총 점포 수\n",
    "\n",
    "sql = \"\"\"\n",
    "SELECT\n",
    "  year_quater_cd,\n",
    "  SUM(store_cnt+similar_store_cnt) AS store_cnt\n",
    "FROM\n",
    "  `restaurant_consumption.store`\n",
    "WHERE\n",
    "  (service_nm LIKE \"%점\" OR service_nm LIKE \"커피%\")\n",
    "  AND service_nm NOT IN(\"편의점\", \"철물점\", \"%한복%\", \"%생활%\")\n",
    "  AND year_quater_cd BETWEEN 20191 AND 20224\n",
    "GROUP BY\n",
    "  year_quater_cd\n",
    "ORDER BY\n",
    "  1\n",
    "\"\"\"\n",
    "store_year = client.query(sql).to_dataframe()\n",
    "store_year"
   ]
  },
  {
   "cell_type": "code",
   "execution_count": 27,
   "id": "18e58313",
   "metadata": {},
   "outputs": [],
   "source": [
    "plt.xticks(rotation=90)\n",
    "sns.barplot(\n",
    "    data = store_year,\n",
    "    x = \"year_quater_cd\",\n",
    "    y = \"store_cnt\",\n",
    ").set(\n",
    "    title = \"연도별 음식업 총 점포 수\"\n",
    ")"
   ]
  },
  {
   "cell_type": "code",
   "execution_count": 28,
   "id": "dc76685c",
   "metadata": {},
   "outputs": [],
   "source": [
    "# 연도별 개/폐업 점포 수\n",
    "sql = \"\"\"\n",
    "SELECT\n",
    "  year_quater_cd,\n",
    "  SUM(open_store_cnt) AS open_store_cnt,\n",
    "  SUM(close_store_cnt) AS close_store_cnt\n",
    "FROM\n",
    "  `restaurant_consumption.store`\n",
    "WHERE\n",
    "  year_quater_cd BETWEEN 20191 AND 20224\n",
    "GROUP BY\n",
    "  year_quater_cd\n",
    "ORDER BY\n",
    "  year_quater_cd\n",
    "\"\"\"\n",
    "store_oc = client.query(sql).to_dataframe()\n",
    "store_oc[\"close/open\"] = round((store_oc['close_store_cnt'] / store_oc['open_store_cnt']), 3)\n",
    "store_oc"
   ]
  },
  {
   "cell_type": "code",
   "execution_count": 29,
   "id": "5aa713af",
   "metadata": {},
   "outputs": [],
   "source": [
    "plt.xticks(rotation=90)\n",
    "sns.barplot(\n",
    "    data = store_oc,\n",
    "    x = \"year_quater_cd\",\n",
    "    y = \"open_store_cnt\",\n",
    ").set(\n",
    "    title = \"연도별 개업 점포 수\"\n",
    ")"
   ]
  },
  {
   "cell_type": "code",
   "execution_count": 30,
   "id": "0adaebed",
   "metadata": {},
   "outputs": [],
   "source": [
    "plt.xticks(rotation=90)\n",
    "sns.barplot(\n",
    "    data = store_oc,\n",
    "    x = \"year_quater_cd\",\n",
    "    y = \"close_store_cnt\",\n",
    ").set(\n",
    "    title = \"연도별 폐업 점포 수\"\n",
    ")"
   ]
  },
  {
   "cell_type": "code",
   "execution_count": 31,
   "id": "c118b57f",
   "metadata": {},
   "outputs": [],
   "source": [
    "fig, ax = plt.subplots(ncols=2, nrows=1,  figsize=(10,6))\n",
    "\n",
    "# 개업\n",
    "# plt.xticks(rotation=90)\n",
    "sns.barplot(\n",
    "    data = store_oc,\n",
    "    x = \"year_quater_cd\",\n",
    "    y = \"open_store_cnt\",\n",
    "    ax = ax[0]\n",
    ").set(\n",
    "    title = \"연도별 개업 점포 수\"\n",
    ")\n",
    "ax[0].set_xticklabels(ax[0].get_xticklabels(), rotation=90)\n",
    "# 폐업\n",
    "plt.xticks(rotation=90)\n",
    "sns.barplot(\n",
    "    data = store_oc,\n",
    "    x = \"year_quater_cd\",\n",
    "    y = \"close_store_cnt\",\n",
    "    ax = ax[1]\n",
    ").set(\n",
    "    title = \"연도별 폐업 점포 수\"\n",
    ")\n",
    "ax[1].set_xticklabels(ax[1].get_xticklabels(), rotation=90)"
   ]
  },
  {
   "cell_type": "code",
   "execution_count": 32,
   "id": "c4d362a0",
   "metadata": {},
   "outputs": [],
   "source": [
    "# 개업대비 폐업 비율\n",
    "fig, ax = plt.subplots(ncols=1, nrows=1)\n",
    "plt.xticks(rotation=90)\n",
    "sns.barplot(\n",
    "    data = store_oc,\n",
    "    x = \"year_quater_cd\",\n",
    "    y = \"close/open\",\n",
    ").set(\n",
    "    title = \"연도별 폐업/개업 비율\"\n",
    ")\n",
    "ax.axhline(y=1, color='red', linestyle='--', linewidth=2)\n"
   ]
  },
  {
   "cell_type": "code",
   "execution_count": null,
   "id": "e4b63034",
   "metadata": {},
   "outputs": [],
   "source": []
  },
  {
   "cell_type": "code",
   "execution_count": 33,
   "id": "e2f16569",
   "metadata": {
    "scrolled": true
   },
   "outputs": [],
   "source": [
    "# 구별 총 점포 수\n",
    "\n",
    "sql = \"\"\"\n",
    "SELECT\n",
    "  autono_nm,\n",
    "  SUM(store_cnt+similar_store_cnt) AS store_cnt\n",
    "FROM\n",
    "  `restaurant_consumption.store`\n",
    "WHERE\n",
    "  (service_nm LIKE \"%점\" OR service_nm LIKE \"커피%\")\n",
    "  AND service_nm NOT IN(\"편의점\", \"철물점\", \"%한복%\", \"%생활%\")\n",
    "GROUP BY\n",
    "  autono_nm\n",
    "ORDER BY\n",
    "  1\n",
    "\"\"\"\n",
    "store_gu = client.query(sql).to_dataframe()\n",
    "store_gu"
   ]
  },
  {
   "cell_type": "code",
   "execution_count": 34,
   "id": "619cf254",
   "metadata": {},
   "outputs": [],
   "source": [
    "plt.figure(figsize=(10,5))\n",
    "plt.xticks(rotation=90)\n",
    "sns.barplot(\n",
    "    data = store_gu,\n",
    "    x = \"autono_nm\",\n",
    "    y = \"store_cnt\",\n",
    ").set(\n",
    "    title = \"구별 음식업 총 점포 수\"\n",
    ")"
   ]
  },
  {
   "cell_type": "code",
   "execution_count": 35,
   "id": "eb65323a",
   "metadata": {
    "scrolled": true
   },
   "outputs": [],
   "source": [
    "# 구별 개/폐업 점포 수\n",
    "\n",
    "sql = \"\"\"\n",
    "SELECT\n",
    "  autono_nm,\n",
    "  SUM(open_store_cnt) AS open_store_cnt,\n",
    "  SUM(close_store_cnt) AS close_store_cnt\n",
    "FROM\n",
    "  `restaurant_consumption.store`\n",
    "WHERE\n",
    "  (service_nm LIKE \"%점\"\n",
    "    OR service_nm LIKE \"커피%\")\n",
    "  AND service_nm NOT IN(\"편의점\",\n",
    "    \"철물점\",\n",
    "    \"%한복%\",\n",
    "    \"%생활%\")\n",
    "GROUP BY\n",
    "  autono_nm\n",
    "ORDER BY\n",
    "  1\n",
    "\"\"\"\n",
    "store_oc_gu = client.query(sql).to_dataframe()\n",
    "store_oc_gu"
   ]
  },
  {
   "cell_type": "code",
   "execution_count": 36,
   "id": "6bd1a591",
   "metadata": {},
   "outputs": [],
   "source": [
    "plt.figure(figsize=(12, 6))\n",
    "plt.xticks(rotation=90)\n",
    "\n",
    "# 개업\n",
    "sns.barplot(\n",
    "    data = store_oc_gu,\n",
    "    x = \"autono_nm\",\n",
    "    y = \"open_store_cnt\",\n",
    ")\n",
    "# 폐업\n",
    "sns.lineplot(\n",
    "    data = store_oc_gu,\n",
    "    x = \"autono_nm\",\n",
    "    y = \"close_store_cnt\",\n",
    "    color = 'blue',\n",
    "    marker='o'\n",
    ")\n",
    "plt.legend(['open','close'])\n",
    "# plt.legend(loc=2, bbox_to_anchor=(1, 1))"
   ]
  },
  {
   "cell_type": "code",
   "execution_count": 194,
   "id": "bcc1e392",
   "metadata": {},
   "outputs": [],
   "source": [
    "# 개/폐업에 영향을 미치는 요인 분석\n",
    "# >> 가설 1. 유동인구가 음식업 개/폐업에 영향을 줄 것이다"
   ]
  },
  {
   "cell_type": "code",
   "execution_count": 47,
   "id": "3b5659ba",
   "metadata": {
    "scrolled": true
   },
   "outputs": [],
   "source": [
    "# 소득소비\n",
    "sql = \"\"\"\n",
    "SELECT\n",
    "  autono_nm,\n",
    "  SUM(month_avg_incom) AS month_avg_incom,\n",
    "  SUM(total_expense) AS total_expense,\n",
    "  SUM(food_total_expense) AS food_total_expense\n",
    "FROM\n",
    "  `restaurant_consumption.income_expense`\n",
    "GROUP BY\n",
    "  autono_nm\n",
    "ORDER BY\n",
    "  1\n",
    "\"\"\"\n",
    "income = client.query(sql).to_dataframe()\n",
    "income"
   ]
  },
  {
   "cell_type": "code",
   "execution_count": 38,
   "id": "48dd6d5d",
   "metadata": {
    "scrolled": true
   },
   "outputs": [],
   "source": [
    "# 개/폐업\n",
    "sql = \"\"\"\n",
    "SELECT\n",
    "  autono_nm,\n",
    "  SUM(store_cnt+similar_store_cnt) AS store_cnt,\n",
    "  SUM(open_store_cnt) AS open_store_cnt,\n",
    "  SUM(close_store_cnt) AS close_store_cnt\n",
    "FROM\n",
    "  `restaurant_consumption.store`\n",
    "WHERE\n",
    "  (service_nm LIKE \"%점\" OR service_nm LIKE \"커피%\")\n",
    "  AND service_nm NOT IN(\"편의점\", \"철물점\", \"%한복%\", \"%생활%\")\n",
    "GROUP BY\n",
    "  autono_nm\n",
    "ORDER BY\n",
    "  1\n",
    "\"\"\"\n",
    "store = client.query(sql).to_dataframe()\n",
    "store"
   ]
  },
  {
   "cell_type": "code",
   "execution_count": 39,
   "id": "047d54c1",
   "metadata": {
    "scrolled": true
   },
   "outputs": [],
   "source": [
    "# 유동인구\n",
    "sql = \"\"\"\n",
    "SELECT\n",
    "  autono_nm,\n",
    "  sum(total_floating_pop) as total_floating_pop,\n",
    "  sum(male_floating_pop) as male_floating_pop,\n",
    "  sum(female_floating_pop) as female_floating_pop,\n",
    "  sum(gen10_floating_pop) as gen10_floating_pop,\n",
    "  sum(gen20_floating_pop) as gen20_floating_pop,\n",
    "  sum(gen30_floating_pop) as gen30_floating_pop,\n",
    "  sum(gen40_floating_pop) as gen40_floating_pop,\n",
    "  sum(gen50_floating_pop) as gen50_floating_pop,\n",
    "  sum(gen60_floating_pop) as gen60_floating_pop\n",
    "FROM\n",
    "  `restaurant_consumption.pop_by_road`\n",
    "group by\n",
    "  autono_nm\n",
    "order by\n",
    "  autono_nm\n",
    "\"\"\"\n",
    "pop = client.query(sql).to_dataframe()\n",
    "pop"
   ]
  },
  {
   "cell_type": "code",
   "execution_count": 199,
   "id": "94689e12",
   "metadata": {},
   "outputs": [
    {
     "data": {
      "text/plain": [
       "PearsonRResult(statistic=0.9934813791918057, pvalue=3.3674389890511955e-23)"
      ]
     },
     "execution_count": 199,
     "metadata": {},
     "output_type": "execute_result"
    }
   ],
   "source": [
    "x = store['open_store_cnt']\n",
    "y = store['close_store_cnt']\n",
    "stats.pearsonr(x,y)\n",
    "\n",
    "# >> 개/폐업 사이에 강한 상관관계가 있음을 확인할 수 있다- (<- 완전 당연함)"
   ]
  },
  {
   "cell_type": "code",
   "execution_count": 40,
   "id": "b502c4a0",
   "metadata": {
    "scrolled": true
   },
   "outputs": [],
   "source": [
    "# 유동인구 ~ 개/폐업\n",
    "pop_store = pd.concat([pop, store],axis=1, join='inner')\n",
    "pop_store"
   ]
  },
  {
   "cell_type": "code",
   "execution_count": 41,
   "id": "7f9dc186",
   "metadata": {
    "scrolled": true
   },
   "outputs": [],
   "source": [
    "pop_store = pop_store.drop(['autono_nm'], axis=1)\n",
    "pop_store"
   ]
  },
  {
   "cell_type": "code",
   "execution_count": 42,
   "id": "270dfa46",
   "metadata": {},
   "outputs": [],
   "source": [
    "pop_store.corr()"
   ]
  },
  {
   "cell_type": "code",
   "execution_count": 43,
   "id": "81bac155",
   "metadata": {},
   "outputs": [],
   "source": [
    "sns.heatmap(\n",
    "    pop_store.corr(), \n",
    "    annot = True, \n",
    "    cmap = 'viridis',\n",
    "    linewidth = 1\n",
    ").set(\n",
    "    title = \"유동인구 ~ 개/폐업\"\n",
    ")"
   ]
  },
  {
   "cell_type": "code",
   "execution_count": null,
   "id": "7954ae14",
   "metadata": {},
   "outputs": [],
   "source": [
    "# 음식점 개업(open_store_cnt)에 영향을 미치는 요인 (점포 수 제외)\n",
    "# >> 30대, 40대 유동인구와 개업 점포 사이에 양의 상관관계가 있음을 확인할 수 있다"
   ]
  },
  {
   "cell_type": "code",
   "execution_count": null,
   "id": "afc4764e",
   "metadata": {},
   "outputs": [],
   "source": []
  },
  {
   "cell_type": "markdown",
   "id": "ccf42b49",
   "metadata": {},
   "source": [
    "## 매출"
   ]
  },
  {
   "cell_type": "code",
   "execution_count": 48,
   "id": "f934a9ce",
   "metadata": {},
   "outputs": [],
   "source": [
    "sql = \"\"\"\n",
    "SELECT\n",
    "  year_quater_cd,\n",
    "  SUM(month_sales_amount) AS month_sales_amount\n",
    "FROM\n",
    "  `restaurant_consumption.sales`\n",
    "WHERE\n",
    "  (service_nm LIKE \"%점\" OR service_nm LIKE \"커피%\")\n",
    "  AND service_nm NOT IN(\"편의점\", \"철물점\", \"%한복%\", \"%생활%\")\n",
    "GROUP BY\n",
    "  year_quater_cd\n",
    "ORDER BY\n",
    "  year_quater_cd\n",
    "\"\"\"\n",
    "sales = client.query(sql).to_dataframe()\n",
    "sales"
   ]
  },
  {
   "cell_type": "code",
   "execution_count": 49,
   "id": "b1af54e7",
   "metadata": {},
   "outputs": [],
   "source": [
    "sql = \"\"\"\n",
    "SELECT\n",
    "  year_quater_cd,\n",
    "  SUM(month_sales_amount) AS month_sales_amount\n",
    "FROM\n",
    "  `restaurant_consumption.sales`\n",
    "WHERE\n",
    "  (service_nm LIKE \"%점\" OR service_nm LIKE \"커피%\")\n",
    "  AND service_nm NOT IN(\"편의점\", \"철물점\", \"%한복%\", \"%생활%\")\n",
    "  AND year_quater_cd BETWEEN 20221 AND 20224\n",
    "GROUP BY\n",
    "  year_quater_cd\n",
    "ORDER BY\n",
    "  year_quater_cd\n",
    "\"\"\"\n",
    "sales_22 = client.query(sql).to_dataframe()\n",
    "sales_22"
   ]
  },
  {
   "cell_type": "code",
   "execution_count": 50,
   "id": "9aeb220a",
   "metadata": {},
   "outputs": [],
   "source": [
    "plt.bar(sales['year_quater_cd'], sales['month_sales_amount'])\n",
    "plt.xlabel(\"year\")\n",
    "plt.ylabel(\"sales\")\n",
    "plt.title(\"총 매출\")"
   ]
  },
  {
   "cell_type": "code",
   "execution_count": 51,
   "id": "fcf3ed38",
   "metadata": {},
   "outputs": [],
   "source": [
    "plt.xticks(rotation=90)\n",
    "plt.title(\"Total Sales\")\n",
    "sns.barplot(\n",
    "    data = sales,\n",
    "    x = \"year_quater_cd\",\n",
    "    y = \"month_sales_amount\"\n",
    ")"
   ]
  },
  {
   "cell_type": "code",
   "execution_count": 52,
   "id": "6b98aaf7",
   "metadata": {},
   "outputs": [],
   "source": [
    "# 연도, 분기별 총 매출\n",
    "\n",
    "plt.figure(figsize=(7.5,6))\n",
    "plt.subplot(221)\n",
    "sns.barplot(\n",
    "    data = sales_19,\n",
    "    x = \"year_quater_cd\",\n",
    "    y = \"month_sales_amount\"\n",
    ")\n",
    "plt.subplot(222)\n",
    "sns.barplot(\n",
    "    data = sales_20,\n",
    "    x = \"year_quater_cd\",\n",
    "    y = \"month_sales_amount\"\n",
    ")\n",
    "plt.subplot(223)\n",
    "sns.barplot(\n",
    "    data = sales_21,\n",
    "    x = \"year_quater_cd\",\n",
    "    y = \"month_sales_amount\"\n",
    ")\n",
    "plt.subplot(224)\n",
    "sns.barplot(\n",
    "    data = sales_22,\n",
    "    x = \"year_quater_cd\",\n",
    "    y = \"month_sales_amount\"\n",
    ")\n",
    "axes.title(\"2019~2022 총 매출\")"
   ]
  },
  {
   "cell_type": "code",
   "execution_count": 174,
   "id": "be066ad9",
   "metadata": {},
   "outputs": [],
   "source": [
    "# >> 1분기보다 4분기에 매출이 확 오르는걸 볼 수 있음\n",
    "# 왜?.?\n",
    "# 가설 1. 구별 매출 변화가 총 매출에 영향을 미쳤을 것이다.\n",
    "# 가설 2. 업종별 매출 변화가 총 매출에 영향을 미쳤을 것이다."
   ]
  },
  {
   "cell_type": "markdown",
   "id": "f4a0b963",
   "metadata": {},
   "source": [
    "### 가설 1. 구별 매출 변화가 총 매출에 영향을 미쳤을 것이다."
   ]
  },
  {
   "cell_type": "code",
   "execution_count": 53,
   "id": "d8146afe",
   "metadata": {
    "scrolled": true
   },
   "outputs": [],
   "source": [
    "sql = \"\"\"\n",
    "SELECT\n",
    "  autono_nm,\n",
    "  SUM(month_sales_amount) AS month_sales_amount\n",
    "FROM\n",
    "  `restaurant_consumption.sales`\n",
    "WHERE\n",
    "  (service_nm LIKE \"%점\" OR service_nm LIKE \"커피%\")\n",
    "  AND service_nm NOT IN(\"편의점\", \"철물점\", \"%한복%\", \"%생활%\")\n",
    "  AND year_quater_cd BETWEEN 20221 and 20224\n",
    "GROUP BY\n",
    "  autono_nm\n",
    "ORDER BY\n",
    "  autono_nm\n",
    "\"\"\"\n",
    "sales_gu_22 = client.query(sql).to_dataframe()\n",
    "sales_gu_22"
   ]
  },
  {
   "cell_type": "code",
   "execution_count": 69,
   "id": "629d4dae",
   "metadata": {},
   "outputs": [],
   "source": [
    "# plt.figure(figsize=(10,8))\n",
    "plt.xticks(rotation=90)\n",
    "\n",
    "plt.plot(sales_gu_19['autono_nm'], sales_gu_19['month_sales_amount'], label=\"sales_19\")\n",
    "plt.plot(sales_gu_19['autono_nm'], sales_gu_20['month_sales_amount'], label=\"sales_20\")\n",
    "plt.plot(sales_gu_19['autono_nm'], sales_gu_21['month_sales_amount'], label=\"sales_21\")\n",
    "plt.plot(sales_gu_19['autono_nm'], sales_gu_22['month_sales_amount'], label=\"sales_22\")\n",
    "plt.legend(loc=2, bbox_to_anchor=(1, 1))\n",
    "# plt.xlabel('자치구')\n",
    "# plt.ylabel('총 매출')\n",
    "plt.title('자치구 매출 ~ 총 매출')\n",
    "plt.show()"
   ]
  },
  {
   "cell_type": "code",
   "execution_count": null,
   "id": "4364a177",
   "metadata": {},
   "outputs": [],
   "source": [
    "# >> 1, 4분기 총 매출 변화가 자치구별 총 매출에 영향을 받지 않는 것으로 보임\n",
    "# >> 가설 1 기각"
   ]
  },
  {
   "cell_type": "markdown",
   "id": "fb86dba2",
   "metadata": {},
   "source": [
    "### 가설 2. 업종별 매출 변화가 총 매출에 영향을 미쳤을 것이다."
   ]
  },
  {
   "cell_type": "code",
   "execution_count": 68,
   "id": "0893892b",
   "metadata": {},
   "outputs": [],
   "source": [
    "sql = \"\"\"\n",
    "SELECT\n",
    "  service_nm,\n",
    "  SUM(month_sales_amount) AS month_sales_amount\n",
    "  \n",
    "FROM\n",
    "  `restaurant_consumption.sales`\n",
    "WHERE\n",
    "  (service_nm LIKE \"%점\" OR service_nm LIKE \"커피%\")\n",
    "  AND service_nm NOT IN(\"편의점\", \"철물점\", \"%한복%\", \"%생활%\")\n",
    "  AND year_quater_cd BETWEEN 20221 and 20224\n",
    "GROUP BY\n",
    "  service_nm\n",
    "ORDER BY\n",
    "  service_nm\n",
    "\"\"\"\n",
    "sales_store_22 = client.query(sql).to_dataframe()\n",
    "sales_store_22"
   ]
  },
  {
   "cell_type": "code",
   "execution_count": 67,
   "id": "f260c980",
   "metadata": {},
   "outputs": [],
   "source": [
    "plt.xticks(rotation=90)\n",
    "plt.plot(sales_store_19['service_nm'], sales_store_19['month_sales_amount'], label=\"sales_19\")\n",
    "plt.plot(sales_store_20['service_nm'], sales_store_20['month_sales_amount'], label=\"sales_20\")\n",
    "plt.plot(sales_store_21['service_nm'], sales_store_21['month_sales_amount'], label=\"sales_21\")\n",
    "plt.plot(sales_store_22['service_nm'], sales_store_22['month_sales_amount'], label=\"sales_22\")\n",
    "\n",
    "plt.legend(loc=2, bbox_to_anchor=(1, 1))"
   ]
  },
  {
   "cell_type": "code",
   "execution_count": null,
   "id": "3d256ec5",
   "metadata": {},
   "outputs": [],
   "source": [
    "# >> 1, 4분기 총 매출 변화가 업종별 총 매출에 영향을 받는 것으로 보임\n",
    "# >> 가설 2 채택"
   ]
  },
  {
   "cell_type": "code",
   "execution_count": null,
   "id": "95e3f797",
   "metadata": {},
   "outputs": [],
   "source": [
    "# >> 그렇다면, 업종별 매출에 영향을 끼치는 요인을 알아보면 "
   ]
  },
  {
   "cell_type": "markdown",
   "id": "1806aff9",
   "metadata": {},
   "source": [
    "## 자치구별 음식업종 비율"
   ]
  },
  {
   "cell_type": "code",
   "execution_count": 66,
   "id": "d8ce2ba2",
   "metadata": {
    "scrolled": true
   },
   "outputs": [],
   "source": [
    "# 구별 전체 음식점 수\n",
    "sql = \"\"\"\n",
    "SELECT\n",
    "  autono_nm,\n",
    "  SUM(store_cnt+similar_store_cnt) as total_cnt\n",
    "FROM\n",
    "  `restaurant_consumption.store`\n",
    "WHERE\n",
    "  (service_nm LIKE \"%점\" OR service_nm LIKE \"커피%\")\n",
    "  AND service_nm NOT IN(\"편의점\", \"철물점\", \"한복점\", \"재생용품 판매점\")\n",
    "GROUP BY\n",
    "  autono_nm\n",
    "ORDER BY\n",
    "  autono_nm\n",
    "\"\"\"\n",
    "store_all = client.query(sql).to_dataframe()\n",
    "store_all"
   ]
  },
  {
   "cell_type": "code",
   "execution_count": 65,
   "id": "b60acbb6",
   "metadata": {
    "scrolled": true
   },
   "outputs": [],
   "source": [
    "store_total_cnt = list(store_all[\"total_cnt\"])\n",
    "store_total_cnt"
   ]
  },
  {
   "cell_type": "code",
   "execution_count": 64,
   "id": "190f564d",
   "metadata": {},
   "outputs": [],
   "source": [
    "# 강남구 음식업별 점포 수\n",
    "sql = \"\"\"\n",
    "SELECT\n",
    "  service_nm,\n",
    "  SUM(store_cnt+similar_store_cnt) as total_cnt\n",
    "FROM\n",
    "  `restaurant_consumption.store`\n",
    "WHERE\n",
    "  (service_nm LIKE \"%점\" OR service_nm LIKE \"커피%\")\n",
    "  AND service_nm NOT IN(\"편의점\", \"철물점\", \"한복점\", \"재생용품 판매점\")\n",
    "  and autono_nm like '%강남%'\n",
    "GROUP BY\n",
    "  service_nm\n",
    "ORDER BY\n",
    "  service_nm\n",
    "\"\"\"\n",
    "store_gangnam = client.query(sql).to_dataframe()\n",
    "\n",
    "# 업종 점포 수 / (자치구별)전체 업종 수\n",
    "store_gangnam[\"total_rat\"] = round(store_gangnam[\"total_cnt\"] / store_total_cnt[0], 3)\n",
    "store_gangnam"
   ]
  },
  {
   "cell_type": "code",
   "execution_count": null,
   "id": "fce40611",
   "metadata": {},
   "outputs": [],
   "source": []
  },
  {
   "cell_type": "markdown",
   "id": "b03d0f04",
   "metadata": {},
   "source": [
    "## 가설 설정"
   ]
  },
  {
   "cell_type": "markdown",
   "id": "bb51c856",
   "metadata": {},
   "source": [
    "### 가설1. 유동인구와 개업점포 사이에 상관관계가 있다"
   ]
  },
  {
   "cell_type": "code",
   "execution_count": 63,
   "id": "7be124d6",
   "metadata": {},
   "outputs": [],
   "source": [
    "sql = \"\"\"\n",
    "SELECT\n",
    "  year_quater_cd,\n",
    "  SUM(open_store_cnt) AS open_store_cnt\n",
    "FROM\n",
    "  `restaurant_consumption.store`\n",
    "WHERE\n",
    "  year_quater_cd BETWEEN 20191 AND 20224\n",
    "GROUP BY\n",
    "  year_quater_cd\n",
    "ORDER BY\n",
    "  year_quater_cd\n",
    "\"\"\"\n",
    "store_open = client.query(sql).to_dataframe()\n",
    "store_open"
   ]
  },
  {
   "cell_type": "code",
   "execution_count": 62,
   "id": "189d35bd",
   "metadata": {},
   "outputs": [],
   "source": [
    "sql = \"\"\"\n",
    "SELECT\n",
    "  year_quater_cd,\n",
    "  SUM(total_floating_pop) AS total_floating_pop\n",
    "FROM\n",
    "  `restaurant_consumption.pop_by_road`\n",
    "WHERE\n",
    "  year_quater_cd BETWEEN 20191 AND 20224\n",
    "GROUP BY\n",
    "  year_quater_cd\n",
    "ORDER BY\n",
    "  year_quater_cd\n",
    "\"\"\"\n",
    "population = client.query(sql).to_dataframe()\n",
    "population"
   ]
  },
  {
   "cell_type": "code",
   "execution_count": 61,
   "id": "4c380c1d",
   "metadata": {},
   "outputs": [],
   "source": [
    "x = store_open[\"open_store_cnt\"]\n",
    "y = population[\"total_floating_pop\"]\n",
    "stats.pearsonr(x, y)\n",
    "\n",
    "# >> 유의확률이 0.676으로 유의수준 0.05보다 크기 때문에 대립가설을 기각하고 귀무가설(유동인구와 개업 점포 수 사이에 관계가 없다)을 채택한다\n",
    "# >> 총 유동인구와 개업 점포 사이에는 상관관계가 없는 것을 확인할 수 있다"
   ]
  },
  {
   "cell_type": "markdown",
   "id": "3b1079be",
   "metadata": {},
   "source": [
    "### 가설2. 유동인구와 매출 사이에 상관관계가 있다"
   ]
  },
  {
   "cell_type": "code",
   "execution_count": 60,
   "id": "98451b93",
   "metadata": {},
   "outputs": [],
   "source": [
    "population"
   ]
  },
  {
   "cell_type": "code",
   "execution_count": 59,
   "id": "a8c5e652",
   "metadata": {},
   "outputs": [],
   "source": [
    "sql = \"\"\"\n",
    "SELECT\n",
    "  year_quater_cd,\n",
    "  SUM(month_sales_amount) AS month_sales_amount\n",
    "FROM\n",
    "  `restaurant_consumption.sales`\n",
    "WHERE\n",
    "  year_quater_cd BETWEEN 20191 AND 20224\n",
    "GROUP BY\n",
    "  year_quater_cd\n",
    "ORDER BY\n",
    "  year_quater_cd\n",
    "\"\"\"\n",
    "sales = client.query(sql).to_dataframe()\n",
    "sales"
   ]
  },
  {
   "cell_type": "code",
   "execution_count": 58,
   "id": "ef7878be",
   "metadata": {},
   "outputs": [],
   "source": [
    "x = sales[\"month_sales_amount\"]\n",
    "y = population[\"total_floating_pop\"]\n",
    "stats.pearsonr(x, y)\n",
    "\n",
    "# >> 유의확률이 0.842로 유의수준 0.05보다 크기 때문에 대립가설을 기각하고 귀무가설(전체 유동인구와 총 매출 사이에 관계가 없다)을 채택한다\n",
    "# >> 총 유동인구와 개업 점포 사이에는 상관관계가 없는 것을 확인할 수 있다"
   ]
  },
  {
   "cell_type": "markdown",
   "id": "a2fae494",
   "metadata": {},
   "source": [
    "### 가설3. 특정 연령대 유동인구와 매출 사이에 관계가 있다"
   ]
  },
  {
   "cell_type": "code",
   "execution_count": 57,
   "id": "012cb8e5",
   "metadata": {
    "scrolled": true
   },
   "outputs": [],
   "source": [
    "sql = \"\"\"\n",
    "SELECT\n",
    "  year_quater_cd,\n",
    "  SUM(total_floating_pop) AS total_floating_pop,\n",
    "  SUM(gen10_floating_pop) AS gen10_floating_pop,\n",
    "  SUM(gen20_floating_pop) AS gen20_floating_pop,\n",
    "  SUM(gen30_floating_pop) AS gen30_floating_pop,\n",
    "  SUM(gen40_floating_pop) AS gen40_floating_pop,\n",
    "  SUM(gen50_floating_pop) AS gen50_floating_pop,\n",
    "  SUM(gen60_floating_pop) AS gen60_floating_pop,\n",
    "FROM\n",
    "  `restaurant_consumption.pop_by_road`\n",
    "WHERE\n",
    "  year_quater_cd BETWEEN 20191 AND 20224\n",
    "GROUP BY\n",
    "  year_quater_cd\n",
    "ORDER BY\n",
    "  year_quater_cd\n",
    "\"\"\"\n",
    "pop_age = client.query(sql).to_dataframe()\n",
    "pop_age"
   ]
  },
  {
   "cell_type": "code",
   "execution_count": 56,
   "id": "06a0b696",
   "metadata": {},
   "outputs": [],
   "source": [
    "sales_popAge = pd.concat([sales,pop_age],axis=1, join='inner')\n",
    "sales_popAge"
   ]
  },
  {
   "cell_type": "code",
   "execution_count": 103,
   "id": "caeb2016",
   "metadata": {},
   "outputs": [],
   "source": [
    "sales_popAge = sales_popAge.drop([\"year_quater_cd\"], axis=1)"
   ]
  },
  {
   "cell_type": "code",
   "execution_count": 55,
   "id": "2103ec36",
   "metadata": {},
   "outputs": [],
   "source": [
    "sales_popAge"
   ]
  },
  {
   "cell_type": "code",
   "execution_count": 54,
   "id": "dd4aa6eb",
   "metadata": {
    "scrolled": true
   },
   "outputs": [],
   "source": [
    "plt.figure(figsize=(15,12))\n",
    "sns.heatmap(\n",
    "    sales_popAge.corr(), \n",
    "    annot = True, \n",
    "    cmap = 'viridis',\n",
    "    linewidth = 1\n",
    ").set(\n",
    "    title = \"연령대별 유동인구 ~ 총 매출\"\n",
    ")\n",
    "\n",
    "# >> 총 매출의 상관계수가 0.7 이상인 연령대 없음\n",
    "# >> 특정 연령대와 총 매출 사이에는 관계가 없음을 알 수 있다"
   ]
  },
  {
   "cell_type": "code",
   "execution_count": null,
   "id": "b116c71a",
   "metadata": {},
   "outputs": [],
   "source": []
  },
  {
   "cell_type": "code",
   "execution_count": null,
   "id": "f1ef9af5",
   "metadata": {},
   "outputs": [],
   "source": []
  },
  {
   "cell_type": "code",
   "execution_count": null,
   "id": "8fa6a582",
   "metadata": {},
   "outputs": [],
   "source": []
  },
  {
   "cell_type": "code",
   "execution_count": null,
   "id": "b0bed416",
   "metadata": {},
   "outputs": [],
   "source": []
  }
 ],
 "metadata": {
  "kernelspec": {
   "display_name": "Python 3 (ipykernel)",
   "language": "python",
   "name": "python3"
  },
  "language_info": {
   "codemirror_mode": {
    "name": "ipython",
    "version": 3
   },
   "file_extension": ".py",
   "mimetype": "text/x-python",
   "name": "python",
   "nbconvert_exporter": "python",
   "pygments_lexer": "ipython3",
   "version": "3.11.5"
  }
 },
 "nbformat": 4,
 "nbformat_minor": 5
}
